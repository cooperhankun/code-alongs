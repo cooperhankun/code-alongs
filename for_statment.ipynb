{
 "cells": [
  {
   "cell_type": "markdown",
   "source": [
    "# for loop\r\n",
    "\r\n",
    "- \"foreach\" loop\r\n",
    "- in some other languages (int i = 0 ; i <=10; i++)\r\n",
    "- for i in range(10) # python"
   ],
   "metadata": {}
  },
  {
   "cell_type": "code",
   "execution_count": 9,
   "source": [
    "for i in range(10):\r\n",
    "    print(i, end=\" \")\r\n",
    "\r\n",
    "# every third number\r\n",
    "print()# new line\r\n",
    "for i in range(1,20,3):\r\n",
    "    print(i, end=\" \")\r\n",
    "\r\n",
    "print(f\"\\n{range(10)}\")\r\n",
    "print(f\"a list from range(10):{list(range(10))}\")"
   ],
   "outputs": [
    {
     "output_type": "stream",
     "name": "stdout",
     "text": [
      "0 1 2 3 4 5 6 7 8 9 \n",
      "1 4 7 10 13 16 19 \n",
      "range(0, 10)\n",
      "a list from range(10):[0, 1, 2, 3, 4, 5, 6, 7, 8, 9]\n"
     ]
    }
   ],
   "metadata": {}
  },
  {
   "cell_type": "code",
   "execution_count": 22,
   "source": [
    "#sum all number between 0-5\r\n",
    "sum=0\r\n",
    "\r\n",
    "for i in range(6):\r\n",
    "    sum+=i\r\n",
    "\r\n",
    "    if i == 5:\r\n",
    "        continue\r\n",
    "\r\n",
    "    print(f\"{i}+\", end=\"\")\r\n",
    "    \r\n",
    "\r\n",
    "print(f\"{i}={sum}\")\r\n",
    "\r\n",
    "print(sum(range(6)))"
   ],
   "outputs": [
    {
     "output_type": "stream",
     "name": "stdout",
     "text": [
      "0+1+2+3+4+5=15\n"
     ]
    },
    {
     "output_type": "error",
     "ename": "TypeError",
     "evalue": "'int' object is not callable",
     "traceback": [
      "\u001b[1;31m---------------------------------------------------------------------------\u001b[0m",
      "\u001b[1;31mTypeError\u001b[0m                                 Traceback (most recent call last)",
      "\u001b[1;32m~\\AppData\\Local\\Temp/ipykernel_8784/2894094590.py\u001b[0m in \u001b[0;36m<module>\u001b[1;34m\u001b[0m\n\u001b[0;32m     13\u001b[0m \u001b[0mprint\u001b[0m\u001b[1;33m(\u001b[0m\u001b[1;34mf\"{i}={sum}\"\u001b[0m\u001b[1;33m)\u001b[0m\u001b[1;33m\u001b[0m\u001b[1;33m\u001b[0m\u001b[0m\n\u001b[0;32m     14\u001b[0m \u001b[1;33m\u001b[0m\u001b[0m\n\u001b[1;32m---> 15\u001b[1;33m \u001b[0mprint\u001b[0m\u001b[1;33m(\u001b[0m\u001b[0msum\u001b[0m\u001b[1;33m(\u001b[0m\u001b[0mrange\u001b[0m\u001b[1;33m(\u001b[0m\u001b[1;36m6\u001b[0m\u001b[1;33m)\u001b[0m\u001b[1;33m)\u001b[0m\u001b[1;33m)\u001b[0m\u001b[1;33m\u001b[0m\u001b[1;33m\u001b[0m\u001b[0m\n\u001b[0m",
      "\u001b[1;31mTypeError\u001b[0m: 'int' object is not callable"
     ]
    }
   ],
   "metadata": {}
  },
  {
   "cell_type": "markdown",
   "source": [
    "## dice simulation\r\n",
    "- calculate probility oc dice roll 6\r\n",
    "\r\n",
    "$$\r\n",
    "P(roll6)=number of sixs/ total of rolls\r\n",
    "$$"
   ],
   "metadata": {}
  },
  {
   "cell_type": "code",
   "execution_count": 34,
   "source": [
    "import random as rnd\r\n",
    "\r\n",
    "num_six, dice_rolls=0, 10000\r\n",
    "\r\n",
    "#count six\r\n",
    "for i in range(dice_rolls):\r\n",
    "    dice=rnd.randint(1,6)\r\n",
    "    if dice == 6:\r\n",
    "        num_six+=1\r\n",
    "\r\n",
    "print(f\"number od six {num_six} in {dice_rolls} dice rolls.\")\r\n",
    "print(f\"probability of six {num_six/dice_rolls}\")\r\n",
    "\r\n",
    "print(f\"Theoretical probability is {1/6}\")"
   ],
   "outputs": [
    {
     "output_type": "stream",
     "name": "stdout",
     "text": [
      "number od six 1749 in 10000 dice rolls.\n",
      "probability of six 0.1749\n",
      "Theoretical probability is 0.16666666666666666\n"
     ]
    }
   ],
   "metadata": {}
  },
  {
   "cell_type": "code",
   "execution_count": 40,
   "source": [
    "fruits= [\"apple\", \"orange\", \"banana\", \"grape\"]\r\n",
    "print(\"i love to eat: \")\r\n",
    "\r\n",
    "print(\"shoping list\")\r\n",
    "for i, fruit in enumerate(fruits):\r\n",
    "    print(f\"{i}.{fruit}\")"
   ],
   "outputs": [
    {
     "output_type": "stream",
     "name": "stdout",
     "text": [
      "i love to eat: \n",
      "shoping list\n",
      "0.apple\n",
      "1.orange\n",
      "2.banana\n",
      "3.grape\n"
     ]
    }
   ],
   "metadata": {}
  },
  {
   "cell_type": "code",
   "execution_count": 31,
   "source": [
    "# pasta question\r\n",
    "import math\r\n",
    "\r\n",
    "for t in range(4000):\r\n",
    "    p=float(0.791*math.exp(0.0526*t))\r\n",
    "    if p >= 15:\r\n",
    "        print(t)\r\n",
    "        print(f\"{t+1960} is the consumption 15kg per person\")\r\n",
    "        break"
   ],
   "outputs": [
    {
     "output_type": "stream",
     "name": "stdout",
     "text": [
      "56\n",
      "2016 is the consumption 15kg per person\n"
     ]
    }
   ],
   "metadata": {}
  },
  {
   "cell_type": "code",
   "execution_count": 42,
   "source": [
    "import matplotlib.pyplot as plt\r\n",
    "import math\r\n",
    "p_per_year=[]\r\n",
    "\r\n",
    "for t in range(140):\r\n",
    "    p=0.791*math.exp(0.0526*t)\r\n",
    "    p_per_year.append(p)\r\n",
    "    \r\n",
    "list(p_per_year)\r\n",
    "plt.plot(range(1960,2100,p_per_year))\r\n",
    "plt.xlabel(\"Year\")\r\n",
    "plt.ylabel(\"pasta i kg\")\r\n",
    "plt.title(\"Pasta per kg per person from 1960\")\r\n",
    "plt.show()\r\n"
   ],
   "outputs": [
    {
     "output_type": "error",
     "ename": "TypeError",
     "evalue": "'list' object cannot be interpreted as an integer",
     "traceback": [
      "\u001b[1;31m---------------------------------------------------------------------------\u001b[0m",
      "\u001b[1;31mTypeError\u001b[0m                                 Traceback (most recent call last)",
      "\u001b[1;32m<ipython-input-42-f880859b4611>\u001b[0m in \u001b[0;36m<module>\u001b[1;34m\u001b[0m\n\u001b[0;32m      8\u001b[0m \u001b[1;33m\u001b[0m\u001b[0m\n\u001b[0;32m      9\u001b[0m \u001b[0mlist\u001b[0m\u001b[1;33m(\u001b[0m\u001b[0mp_per_year\u001b[0m\u001b[1;33m)\u001b[0m\u001b[1;33m\u001b[0m\u001b[1;33m\u001b[0m\u001b[0m\n\u001b[1;32m---> 10\u001b[1;33m \u001b[0mplt\u001b[0m\u001b[1;33m.\u001b[0m\u001b[0mplot\u001b[0m\u001b[1;33m(\u001b[0m\u001b[0mrange\u001b[0m\u001b[1;33m(\u001b[0m\u001b[1;36m1960\u001b[0m\u001b[1;33m,\u001b[0m\u001b[1;36m2100\u001b[0m\u001b[1;33m,\u001b[0m\u001b[0mp_per_year\u001b[0m\u001b[1;33m)\u001b[0m\u001b[1;33m)\u001b[0m\u001b[1;33m\u001b[0m\u001b[1;33m\u001b[0m\u001b[0m\n\u001b[0m\u001b[0;32m     11\u001b[0m \u001b[0mplt\u001b[0m\u001b[1;33m.\u001b[0m\u001b[0mxlabel\u001b[0m\u001b[1;33m(\u001b[0m\u001b[1;34m\"Year\"\u001b[0m\u001b[1;33m)\u001b[0m\u001b[1;33m\u001b[0m\u001b[1;33m\u001b[0m\u001b[0m\n\u001b[0;32m     12\u001b[0m \u001b[0mplt\u001b[0m\u001b[1;33m.\u001b[0m\u001b[0mylabel\u001b[0m\u001b[1;33m(\u001b[0m\u001b[1;34m\"pasta i kg\"\u001b[0m\u001b[1;33m)\u001b[0m\u001b[1;33m\u001b[0m\u001b[1;33m\u001b[0m\u001b[0m\n",
      "\u001b[1;31mTypeError\u001b[0m: 'list' object cannot be interpreted as an integer"
     ]
    }
   ],
   "metadata": {}
  }
 ],
 "metadata": {
  "orig_nbformat": 4,
  "language_info": {
   "name": "python",
   "version": "3.8.8",
   "mimetype": "text/x-python",
   "codemirror_mode": {
    "name": "ipython",
    "version": 3
   },
   "pygments_lexer": "ipython3",
   "nbconvert_exporter": "python",
   "file_extension": ".py"
  },
  "kernelspec": {
   "name": "python3",
   "display_name": "Python 3.9.6 64-bit ('python-programming-Kun-Han-lwkoREgH': pipenv)"
  },
  "interpreter": {
   "hash": "7565875fc860841d1ac58932c3399b2f9de3300a7321d66f878423c047ece803"
  }
 },
 "nbformat": 4,
 "nbformat_minor": 2
}