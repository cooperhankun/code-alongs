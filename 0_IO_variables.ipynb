{
 "cells": [
  {
   "cell_type": "markdown",
   "source": [
    "# input/output and variables"
   ],
   "metadata": {}
  },
  {
   "cell_type": "code",
   "execution_count": 28,
   "source": [
    "# det här är en kommentar\r\n",
    "name=\"kun\" # skapa en variable som heter kun\r\n",
    "print(\"Hello\") \r\n",
    "\r\n",
    "age=40 #skapa en variable vid namn age\r\n",
    "\r\n",
    "print(\"hey\", name,\"!\") #strängar och variables\r\n",
    "print(f\"Hej {name}, du är {age} år gammal\") #f-string(formatted string)\r\n",
    "\r\n",
    "name= \"Anna\"\r\n",
    "print(f\"Hej {name}\")\r\n",
    "\r\n",
    "age= 39.8\r\n",
    "print(f\"I am about {age} years old\")"
   ],
   "outputs": [
    {
     "output_type": "stream",
     "name": "stdout",
     "text": [
      "Hello\n",
      "hey kun !\n",
      "Hej kun, du är 40 år gammal\n",
      "Hej Anna\n",
      "I am about 39.8 years old\n"
     ]
    }
   ],
   "metadata": {}
  },
  {
   "cell_type": "markdown",
   "source": [
    "# Input från användare"
   ],
   "metadata": {}
  },
  {
   "cell_type": "code",
   "execution_count": 39,
   "source": [
    "name = input(\"Vad heter du?\")\r\n",
    "age = input(\"Hur gamma är du?\")\r\n",
    "\r\n",
    "print(f\"Du heter {name}, du är {age} år gammal.\")"
   ],
   "outputs": [
    {
     "output_type": "stream",
     "name": "stdout",
     "text": [
      "Du heter sd, du är 33 år gammal.\n"
     ]
    }
   ],
   "metadata": {}
  },
  {
   "cell_type": "code",
   "execution_count": 41,
   "source": [
    "a = 9.82\r\n",
    "b = float(input(\"your weight\")) # string -> float\r\n",
    "\r\n",
    "c = a*b\r\n",
    "\r\n",
    "print(f\"Your tynd är {c} N\")"
   ],
   "outputs": [
    {
     "output_type": "stream",
     "name": "stdout",
     "text": [
      "Your tynd är 216.04000000000002 N\n"
     ]
    }
   ],
   "metadata": {}
  },
  {
   "cell_type": "code",
   "execution_count": null,
   "source": [],
   "outputs": [],
   "metadata": {}
  }
 ],
 "metadata": {
  "orig_nbformat": 4,
  "language_info": {
   "name": "python",
   "version": "3.9.6",
   "mimetype": "text/x-python",
   "codemirror_mode": {
    "name": "ipython",
    "version": 3
   },
   "pygments_lexer": "ipython3",
   "nbconvert_exporter": "python",
   "file_extension": ".py"
  },
  "kernelspec": {
   "name": "python3",
   "display_name": "Python 3.9.6 64-bit"
  },
  "interpreter": {
   "hash": "ded964624c0da0089d9183eb236546880599c5ca771d587a021b71135ab6c6eb"
  }
 },
 "nbformat": 4,
 "nbformat_minor": 2
}