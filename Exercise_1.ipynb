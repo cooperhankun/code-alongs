{
 "cells": [
  {
   "cell_type": "markdown",
   "source": [
    "# 1. Check sign"
   ],
   "metadata": {}
  },
  {
   "cell_type": "code",
   "execution_count": 17,
   "source": [
    "check=int(input(\"Type your number:\"))\r\n",
    "if check < 0:\r\n",
    "    print(\"Negative\")\r\n",
    "if check == 0:\r\n",
    "    print(\"Zero\")\r\n",
    "else:\r\n",
    "    print(\"Positive\")"
   ],
   "outputs": [
    {
     "output_type": "stream",
     "name": "stdout",
     "text": [
      "Zero\n"
     ]
    }
   ],
   "metadata": {}
  },
  {
   "cell_type": "markdown",
   "source": [
    "# 2. Smallest "
   ],
   "metadata": {}
  },
  {
   "cell_type": "code",
   "execution_count": 20,
   "source": [
    "a= int(input(\"the first number\"))\r\n",
    "b= int(input(\"The second number\"))\r\n",
    "\r\n",
    "if a < b:\r\n",
    "    print(a)\r\n",
    "else:\r\n",
    "    print(b)"
   ],
   "outputs": [
    {
     "output_type": "stream",
     "name": "stdout",
     "text": [
      "11\n"
     ]
    }
   ],
   "metadata": {}
  },
  {
   "cell_type": "markdown",
   "source": [
    "# 3. Right angle"
   ],
   "metadata": {}
  },
  {
   "cell_type": "code",
   "execution_count": 66,
   "source": [
    "alfa=int(input(\"Write the first angel\"))\r\n",
    "beta=int(input(\"Write the second angel\"))\r\n",
    "gama=int(input(\"Write the third angel\"))\r\n",
    "\r\n",
    "if alfa+beta+gama == 180 and (alfa == 90 or beta==90 or gama==90):\r\n",
    "    print(\"It is a right angle\")\r\n",
    "\r\n",
    "else:\r\n",
    "    print(\"Fel! This is not a right angel. Type again!\")"
   ],
   "outputs": [
    {
     "output_type": "stream",
     "name": "stdout",
     "text": [
      "Fel! This is not a right angel. Type again!\n"
     ]
    }
   ],
   "metadata": {}
  },
  {
   "cell_type": "markdown",
   "source": [
    "# 4. Medicine "
   ],
   "metadata": {}
  },
  {
   "cell_type": "code",
   "execution_count": 33,
   "source": [
    "age=int(input(\"enter the age\"))\r\n",
    "weight=int(input(\"enter the weight\"))\r\n",
    "\r\n",
    "if age>12 or weight>40:\r\n",
    "    print(\"Take 1-2 pills\")\r\n",
    "elif 7<=age<=12 or 26<=weight<=40:\r\n",
    "    print(\"Take 1/2 - 1 pills\")\r\n",
    "elif 3<=age<=7 or 15<=weight<=25:\r\n",
    "    print(\"Take 1/2 pills\")\r\n",
    "else:\r\n",
    "    print(\"Can not take this pill\")"
   ],
   "outputs": [
    {
     "output_type": "stream",
     "name": "stdout",
     "text": [
      "Take 1/2 pills\n"
     ]
    }
   ],
   "metadata": {}
  },
  {
   "cell_type": "markdown",
   "source": [
    "\r\n",
    "# 5. Divisible"
   ],
   "metadata": {}
  },
  {
   "cell_type": "code",
   "execution_count": 50,
   "source": [
    "number=int(input(\"Please type a number\"))\r\n",
    "\r\n",
    "if number%2 == 0:\r\n",
    "    print(\"This is even\")\r\n",
    "else:\r\n",
    "    print(\"This is a odd\")\r\n",
    "\r\n",
    "if number%5 == 0:\r\n",
    "    print(\"This number is devisible by 5\")\r\n",
    "\r\n",
    "if number%2 != 0 and number%5 == 0:\r\n",
    "    print(\"This number is devisible by 5 and odd\")"
   ],
   "outputs": [
    {
     "output_type": "stream",
     "name": "stdout",
     "text": [
      "This is a odd\n",
      "This number is devisible by 5\n",
      "This number is devisible by 5 and odd\n"
     ]
    }
   ],
   "metadata": {}
  },
  {
   "cell_type": "markdown",
   "source": [
    "# 6. Luggage size"
   ],
   "metadata": {}
  },
  {
   "cell_type": "code",
   "execution_count": 76,
   "source": [
    "weight=int(input(\"Enter the weight\"))\r\n",
    "\r\n",
    "length=int(input(\"Enter the length\"))\r\n",
    "width=int(input(\"Enter the width \"))\r\n",
    "height=int(input(\"Enter the height\"))\r\n",
    "\r\n",
    "if weight>8 or length>55 or width>40 or height>23:\r\n",
    "    print(\"The luggage is not allowed on board\")\r\n",
    "else:\r\n",
    "    print(\"The luggage is allowed on board\")"
   ],
   "outputs": [
    {
     "output_type": "stream",
     "name": "stdout",
     "text": [
      "The luggage is allowed on board\n"
     ]
    }
   ],
   "metadata": {}
  }
 ],
 "metadata": {
  "orig_nbformat": 4,
  "language_info": {
   "name": "python",
   "version": "3.8.8",
   "mimetype": "text/x-python",
   "codemirror_mode": {
    "name": "ipython",
    "version": 3
   },
   "pygments_lexer": "ipython3",
   "nbconvert_exporter": "python",
   "file_extension": ".py"
  },
  "kernelspec": {
   "name": "python3",
   "display_name": "Python 3.8.8 64-bit ('base': conda)"
  },
  "interpreter": {
   "hash": "84dfd32d8b04a53e682318ee90138e95557b48f829cb922260588b1a1264cc67"
  }
 },
 "nbformat": 4,
 "nbformat_minor": 2
}