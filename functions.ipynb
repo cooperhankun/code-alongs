{
 "cells": [
  {
   "cell_type": "markdown",
   "source": [
    "## Functions"
   ],
   "metadata": {}
  },
  {
   "cell_type": "code",
   "execution_count": 13,
   "source": [
    "def cube(number):\r\n",
    "    return number ** 3\r\n",
    "\r\n",
    "print(f\"cube(3): {cube(3)}\")\r\n",
    "\r\n",
    "\r\n",
    "print(cube(5))\r\n",
    "\r\n",
    "cubes=[cube(x) for x in range(10)]\r\n",
    "print(cubes)"
   ],
   "outputs": [
    {
     "output_type": "stream",
     "name": "stdout",
     "text": [
      "cube(3): 27\n",
      "125\n",
      "[0, 1, 8, 27, 64, 125, 216, 343, 512, 729]\n"
     ]
    }
   ],
   "metadata": {}
  },
  {
   "cell_type": "code",
   "execution_count": 14,
   "source": [
    "def mean1(num1, num2, num3):\r\n",
    "    mean= (num1+num2+num3)/3\r\n",
    "    return mean\r\n",
    "\r\n",
    "print(f\"mean1(1,3,5): {mean1(1,3,5)}\") # mean is not defind, so it excute only mean1"
   ],
   "outputs": [
    {
     "output_type": "stream",
     "name": "stdout",
     "text": [
      "mean1(1,3,5): 3.0\n"
     ]
    }
   ],
   "metadata": {}
  },
  {
   "cell_type": "markdown",
   "source": [
    "## Default values"
   ],
   "metadata": {}
  },
  {
   "cell_type": "code",
   "execution_count": 26,
   "source": [
    "# function without a return value\r\n",
    "def say_hi(name=\"friend\", age=0):\r\n",
    "    print(f\"hi {name}, you are {age} years old\")\r\n",
    "\r\n",
    "say_hi(\"kun\", 30) # do this input\r\n",
    "say_hi() # default values\r\n",
    "say_hi(age=30) # keyword argument"
   ],
   "outputs": [
    {
     "output_type": "stream",
     "name": "stdout",
     "text": [
      "hi kun, you are 30 years old\n",
      "hi friend, you are 0 years old\n",
      "hi friend, you are 30 years old\n"
     ]
    }
   ],
   "metadata": {}
  },
  {
   "cell_type": "markdown",
   "source": [
    "## Keyword arguments\r\n",
    "- key = value syntax"
   ],
   "metadata": {}
  },
  {
   "cell_type": "code",
   "execution_count": 3,
   "source": [
    "def count_words(text=\"\"):\r\n",
    "    words=text.split() # 只把单词分开，字母分开用\".split\"\r\n",
    "    return len(words)\r\n",
    "\r\n",
    "print(count_words(\"I stand on a mountain\"))\r\n",
    "print(count_words())"
   ],
   "outputs": [
    {
     "output_type": "stream",
     "name": "stdout",
     "text": [
      "5\n",
      "0\n"
     ]
    }
   ],
   "metadata": {}
  },
  {
   "cell_type": "markdown",
   "source": [
    "## arbitrary arguments, *args"
   ],
   "metadata": {}
  },
  {
   "cell_type": "code",
   "execution_count": 2,
   "source": [
    "def mean2(*numbers):\r\n",
    "    sum=0\r\n",
    "    for number in numbers:\r\n",
    "        sum+=number\r\n",
    "    return sum/len(numbers)\r\n",
    "\r\n",
    "print(f\"mean2(2,3,4): {mean2(2,3,4)}\")\r\n",
    "print(f\"mean2(2,3,4,5): {mean2(2,3,4,5)}\")\r\n"
   ],
   "outputs": [
    {
     "output_type": "stream",
     "name": "stdout",
     "text": [
      "mean2(2,3,4): 3.0\n",
      "mean2(2,3,4,5): 3.5\n"
     ]
    }
   ],
   "metadata": {}
  },
  {
   "cell_type": "markdown",
   "source": [
    "## lambda functions\r\n",
    "- anonymous function"
   ],
   "metadata": {}
  },
  {
   "cell_type": "code",
   "execution_count": 7,
   "source": [
    "cuber = lambda x: x**3\r\n",
    "\"\"\"\r\n",
    "def cuber(x):\r\n",
    "    return x**3\r\n",
    "\"\"\"\r\n",
    "print(f\"cuber(3): {cuber(3)}\")"
   ],
   "outputs": [
    {
     "output_type": "stream",
     "name": "stdout",
     "text": [
      "cuber(3): 27\n"
     ]
    }
   ],
   "metadata": {}
  },
  {
   "cell_type": "code",
   "execution_count": 43,
   "source": [
    "def n_power1(x,n):\r\n",
    "    return x**n\r\n",
    "\r\n",
    "print(n_power1(2,3))\r\n",
    "#\r\n",
    "#\r\n",
    "#\r\n",
    "def n_power2(n):\r\n",
    "    return lambda x: x**n\r\n",
    "\r\n",
    "third_power=n_power2(3)\r\n",
    "print(third_power(2))\r\n",
    "\r\n",
    "     "
   ],
   "outputs": [
    {
     "output_type": "stream",
     "name": "stdout",
     "text": [
      "8\n",
      "8\n"
     ]
    }
   ],
   "metadata": {}
  },
  {
   "cell_type": "code",
   "execution_count": 24,
   "source": [
    "import matplotlib.pyplot as plt\r\n",
    "\r\n",
    "\r\n",
    "x = list(range(-5,5))\r\n",
    "def draw_lines(x, k=1, m=1):\r\n",
    "    y=[k*x_+m for x_ in x]\r\n",
    "\r\n",
    "    plt.plot(x,y)\r\n",
    "    plt.xlabel(\"X\")\r\n",
    "    plt.ylabel(\"Y\")\r\n",
    "\r\n",
    "x = list(range(-5,5))\r\n",
    "\r\n",
    "draw_lines(x)\r\n",
    "draw_lines(x, k=-2, m=1)"
   ],
   "outputs": [
    {
     "output_type": "display_data",
     "data": {
      "image/png": "[encoded data removed]",
      "text/plain": [
       "<Figure size 432x288 with 1 Axes>"
      ]
     },
     "metadata": {
      "needs_background": "light"
     }
    }
   ],
   "metadata": {}
  }
 ],
 "metadata": {
  "orig_nbformat": 4,
  "language_info": {
   "name": "python",
   "version": "3.8.8",
   "mimetype": "text/x-python",
   "codemirror_mode": {
    "name": "ipython",
    "version": 3
   },
   "pygments_lexer": "ipython3",
   "nbconvert_exporter": "python",
   "file_extension": ".py"
  },
  "kernelspec": {
   "name": "python3",
   "display_name": "Python 3.8.8 64-bit ('base': conda)"
  },
  "interpreter": {
   "hash": "84dfd32d8b04a53e682318ee90138e95557b48f829cb922260588b1a1264cc67"
  }
 },
 "nbformat": 4,
 "nbformat_minor": 2
}