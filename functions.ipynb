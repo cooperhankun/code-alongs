{
 "cells": [
  {
   "cell_type": "markdown",
   "source": [
    "## Functions"
   ],
   "metadata": {}
  },
  {
   "cell_type": "code",
   "execution_count": 13,
   "source": [
    "def cube(number):\r\n",
    "    return number ** 3\r\n",
    "\r\n",
    "print(f\"cube(3): {cube(3)}\")\r\n",
    "\r\n",
    "\r\n",
    "print(cube(5))\r\n",
    "\r\n",
    "cubes=[cube(x) for x in range(10)]\r\n",
    "print(cubes)"
   ],
   "outputs": [
    {
     "output_type": "stream",
     "name": "stdout",
     "text": [
      "cube(3): 27\n",
      "125\n",
      "[0, 1, 8, 27, 64, 125, 216, 343, 512, 729]\n"
     ]
    }
   ],
   "metadata": {}
  },
  {
   "cell_type": "code",
   "execution_count": 14,
   "source": [
    "def mean1(num1, num2, num3):\r\n",
    "    mean= (num1+num2+num3)/3\r\n",
    "    return mean\r\n",
    "\r\n",
    "print(f\"mean1(1,3,5): {mean1(1,3,5)}\") # mean is not defind, so it excute only mean1"
   ],
   "outputs": [
    {
     "output_type": "stream",
     "name": "stdout",
     "text": [
      "mean1(1,3,5): 3.0\n"
     ]
    }
   ],
   "metadata": {}
  },
  {
   "cell_type": "markdown",
   "source": [
    "## Default values"
   ],
   "metadata": {}
  },
  {
   "cell_type": "code",
   "execution_count": 26,
   "source": [
    "# function without a return value\r\n",
    "def say_hi(name=\"friend\", age=0):\r\n",
    "    print(f\"hi {name}, you are {age} years old\")\r\n",
    "\r\n",
    "say_hi(\"kun\", 30) # do this input\r\n",
    "say_hi() # default values\r\n",
    "say_hi(age=30) # keyword argument"
   ],
   "outputs": [
    {
     "output_type": "stream",
     "name": "stdout",
     "text": [
      "hi kun, you are 30 years old\n",
      "hi friend, you are 0 years old\n",
      "hi friend, you are 30 years old\n"
     ]
    }
   ],
   "metadata": {}
  },
  {
   "cell_type": "markdown",
   "source": [
    "## Keyword arguments\r\n",
    "- key = value syntax"
   ],
   "metadata": {}
  },
  {
   "cell_type": "code",
   "execution_count": 3,
   "source": [
    "def count_words(text=\"\"):\r\n",
    "    words=text.split() # 只把单词分开，字母分开用\".split\"\r\n",
    "    return len(words)\r\n",
    "\r\n",
    "print(count_words(\"I stand on a mountain\"))\r\n",
    "print(count_words())"
   ],
   "outputs": [
    {
     "output_type": "stream",
     "name": "stdout",
     "text": [
      "5\n",
      "0\n"
     ]
    }
   ],
   "metadata": {}
  },
  {
   "cell_type": "code",
   "execution_count": null,
   "source": [],
   "outputs": [],
   "metadata": {}
  }
 ],
 "metadata": {
  "orig_nbformat": 4,
  "language_info": {
   "name": "python",
   "version": "3.8.8",
   "mimetype": "text/x-python",
   "codemirror_mode": {
    "name": "ipython",
    "version": 3
   },
   "pygments_lexer": "ipython3",
   "nbconvert_exporter": "python",
   "file_extension": ".py"
  },
  "kernelspec": {
   "name": "python3",
   "display_name": "Python 3.8.8 64-bit ('base': conda)"
  },
  "interpreter": {
   "hash": "84dfd32d8b04a53e682318ee90138e95557b48f829cb922260588b1a1264cc67"
  }
 },
 "nbformat": 4,
 "nbformat_minor": 2
}