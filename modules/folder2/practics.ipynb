{
 "cells": [
  {
   "cell_type": "code",
   "execution_count": 7,
   "metadata": {},
   "outputs": [
    {
     "data": {
      "image/png": "[encoded data removed]",
      "text/plain": [
       "<Figure size 600x400 with 1 Axes>"
      ]
     },
     "metadata": {
      "needs_background": "light"
     },
     "output_type": "display_data"
    }
   ],
   "source": [
    "import matplotlib.pyplot as plt\n",
    "import numpy as np\n",
    "\n",
    "xpoints = (0, 1,3,4,6)\n",
    "ypoints = (0,4,3,2, 100)\n",
    "plt.figure(dpi=100)\n",
    "plt.axes()\n",
    "plt.plot(xpoints, ypoints, \"d\")\n",
    "plt.show()"
   ]
  },
  {
   "cell_type": "markdown",
   "metadata": {},
   "source": [
    "# Prove"
   ]
  },
  {
   "cell_type": "code",
   "execution_count": 73,
   "metadata": {},
   "outputs": [
    {
     "name": "stdout",
     "output_type": "stream",
     "text": [
      "v42\n",
      "Chili sin carne\n",
      "Pannkakor\n",
      "Ã„rtsoppa\n",
      "Kebab\n",
      "Vegetarisk lasagne\n"
     ]
    }
   ],
   "source": [
    "path = \"bamba.txt\"\n",
    "with open (path, \"r\") as text:\n",
    "    words = text.read()\n",
    "print(words)"
   ]
  },
  {
   "cell_type": "code",
   "execution_count": 25,
   "metadata": {},
   "outputs": [
    {
     "name": "stdout",
     "output_type": "stream",
     "text": [
      "[['1', '2', ' 0', '0'], ['2', '0', ' 3', '5'], ['-2', '-2', ' 9', '2'], ['-3', '-2', ' 9', '2'], ['4', '-2', ' -6', '2'], ['-2', '6', ' 7', '2'], ['-2', '2', ' 9', '1']]\n",
      "[2.23606797749979, 5.0990195135927845, 11.704699910719626, 12.649110640673518, 10.770329614269007, 9.848857801796104, 11.045361017187261]\n"
     ]
    }
   ],
   "source": [
    "def distance(p1, p2, q1, q2):\n",
    "    return ((p1 - q1)**2 + (p2 - q2)**2)**0.5\n",
    "\n",
    "path = \"testpunkter.txt\"\n",
    "\n",
    "with open (path, \"r\") as punkter:\n",
    "    \n",
    "    coordinates = [coordinate.strip(\"\\n\").replace(\"(\", \"\").replace(\")\", \"\") for coordinate in punkter.readlines()]\n",
    "    coordinates.pop(0)\n",
    "    coordinates2 = [coordinate.split(\",\") for coordinate in coordinates]\n",
    "    \n",
    "\n",
    "print(coordinates2)\n",
    "distances = []\n",
    "\n",
    "for each_point in coordinates2:\n",
    "    d = distance(float(each_point[0]), float(each_point[1]), float(each_point[2]), float(each_point[3]))\n",
    "    distances.append(d)\n",
    "\n",
    "print(distances)\n",
    "\n",
    "\n",
    "\n"
   ]
  },
  {
   "cell_type": "code",
   "execution_count": 203,
   "metadata": {},
   "outputs": [
    {
     "name": "stdout",
     "output_type": "stream",
     "text": [
      "10\n",
      "5\n",
      "10\n",
      "25\n"
     ]
    }
   ],
   "source": [
    "import random as rnd\n",
    "\n",
    "j=q=k=10\n",
    "a=11\n",
    "points = (2,3,4,5,6,7,8,9,10, j, q, k, a)\n",
    "\n",
    "x1 = rnd.choice(points)\n",
    "x2 = rnd.choice(points)\n",
    "\n",
    "y1 = rnd.choice(points)\n",
    "y2 = rnd.choice(points)\n",
    "\n",
    "y_new = rnd.choice(points)\n",
    "\n",
    "\n",
    "delter_points = x1+x2\n",
    "spelare_points = y1+y2\n",
    "\n",
    "while spelare_points < 21:\n",
    "    spelare_points+=y_new\n",
    "    \n",
    "\n",
    "print(y1)\n",
    "print(y2)\n",
    "print(y_new)\n",
    "\n",
    "print(spelare_points)\n",
    "\n",
    "\n",
    "\n",
    "\n"
   ]
  },
  {
   "cell_type": "code",
   "execution_count": 2,
   "metadata": {},
   "outputs": [
    {
     "name": "stdout",
     "output_type": "stream",
     "text": [
      "{'a', 1, 2, 3, 'b', 'c'}\n"
     ]
    }
   ],
   "source": [
    "set1 = {\"a\", \"b\" , \"c\"}\n",
    "set2 = {1, 2, 3}\n",
    "\n",
    "set3 = set1.union(set2)\n",
    "print(set3)"
   ]
  },
  {
   "cell_type": "code",
   "execution_count": 11,
   "metadata": {},
   "outputs": [
    {
     "name": "stdout",
     "output_type": "stream",
     "text": [
      "z\n",
      "c\n",
      "d\n",
      "m\n"
     ]
    }
   ],
   "source": [
    "x = [\"w\",\"e\",\"l\",\"h\"]\n",
    "c = [\"z\", \"c\", \"d\", \"m\"]\n",
    "m = [\"z\", \"c\", \"d\", \"m\"]\n",
    "\n",
    "for x, c in zip (x, m):\n",
    "    print(c)\n"
   ]
  },
  {
   "cell_type": "code",
   "execution_count": 26,
   "metadata": {},
   "outputs": [
    {
     "name": "stdout",
     "output_type": "stream",
     "text": [
      "dice1 1639 times; dice2 1660 times; dice3 1667 times; dice4 1713 times; dice5 1671 times; dice6 1650 times;\n"
     ]
    }
   ],
   "source": [
    "import random as rnd \n",
    "\n",
    "dice1 = 0\n",
    "dice2 = 0\n",
    "dice3 = 0\n",
    "dice4 = 0\n",
    "dice5 = 0\n",
    "dice6 = 0\n",
    "\n",
    "dice = [rnd.randint(1,6) for i in range(10000)]\n",
    "\n",
    "for j in dice:\n",
    "    if j==1:\n",
    "        dice1+=1\n",
    "    if j==2:\n",
    "        dice2+=1\n",
    "    if j==3:\n",
    "        dice3+=1\n",
    "    if j==4:\n",
    "        dice4+=1\n",
    "    if j==5:\n",
    "        dice5+=1\n",
    "    if j==6:\n",
    "        dice6+=1\n",
    "\n",
    "print(f\"dice1 {dice1} times; dice2 {dice2} times; dice3 {dice3} times; dice4 {dice4} times; dice5 {dice5} times; dice6 {dice6} times;\")"
   ]
  },
  {
   "cell_type": "code",
   "execution_count": 50,
   "metadata": {},
   "outputs": [
    {
     "name": "stdout",
     "output_type": "stream",
     "text": [
      "R must be positive\n",
      "0.0\n"
     ]
    }
   ],
   "source": [
    "from math import pi\n",
    "\n",
    "def volume(r):\n",
    "    return 4/3*pi*r**3\n",
    "\n",
    "\n",
    "\n",
    "try:\n",
    "    r = float(input(\"Type a radium\"))\n",
    "    if r <= 0:\n",
    "        raise ValueError(\"R must be positive\")\n",
    "\n",
    "except ValueError as err:\n",
    "    \n",
    "    print(err)\n",
    "\n",
    "print(volume(r))\n",
    "\n",
    "\n"
   ]
  },
  {
   "cell_type": "code",
   "execution_count": 132,
   "metadata": {},
   "outputs": [
    {
     "name": "stdout",
     "output_type": "stream",
     "text": [
      "dealer has a 6, and another card X\n",
      "you have [8, 9]\n",
      "you have a total of 18 from these cards [8, 9, 1]\n",
      "The dealer has a total of 10 with [6, 4]\n",
      "You have a total of 18 with [8, 9, 1]\n",
      "You win!\n"
     ]
    }
   ],
   "source": [
    "import random as rnd\n",
    "\n",
    "# Dealer cards\n",
    "dealer_cards = []\n",
    "#player cards\n",
    "player_cards = []\n",
    "\n",
    "# dealer cards\n",
    "while len(dealer_cards) != 2:\n",
    "    dealer_cards.append(rnd.randint(2,11)) # because the dealer has 2 cards, so the first \"A\" must be 11 points\n",
    "    if len(dealer_cards) == 2:\n",
    "        print(f\"dealer has a {dealer_cards[0]}, and another card X\")\n",
    "\n",
    "\n",
    "# player cards\n",
    "while len(player_cards) != 2:\n",
    "    player_cards.append(rnd.randint(2,11))\n",
    "    if len(player_cards) == 2:\n",
    "        print(\"you have\", player_cards)\n",
    "\n",
    "    if sum(player_cards) == 22: \n",
    "        sum(player_cards) == (sum(player_cards) - 10) # 如果玩家2张A，则总分减去10。（11和1）\n",
    "\n",
    "\n",
    "# sum of the dealer cards\n",
    "if sum(dealer_cards) == 21:\n",
    "    print(\"Dealer has 21 and wins!\")\n",
    "if sum(player_cards) == 22:\n",
    "        sum(player_cards) == (sum(player_cards) - 10) # 庄家也是如此，两张A，其中一张是1分\n",
    "\n",
    "# sum of the players cards\n",
    "while sum(player_cards) < 21:\n",
    "    action_take = str(input(\"do you want to stay or hit?\"))\n",
    "    if action_take == \"hit\" and sum(player_cards) < 11:\n",
    "        player_cards.append(rnd.randint(2,11)) # 如果总分小于11，下一张A可以是11\n",
    "    elif action_take == \"hit\" and sum(player_cards) >= 11:\n",
    "        player_cards.append(rnd.randint(1,10)) # 如果总分大于等于11，下一张A必须是1\n",
    "\n",
    "        print(\"you have a total of \" + str(sum(player_cards)) + \" from these cards\", player_cards)\n",
    "\n",
    "    else:\n",
    "        print(\"The dealer has a total of \" + str(sum(dealer_cards)) + \" with\", dealer_cards)\n",
    "        print(\"You have a total of \" + str(sum(player_cards)) + \" with\", player_cards)\n",
    "        if sum(dealer_cards) > sum(player_cards):\n",
    "            print(\"dealer wins\")\n",
    "        else:\n",
    "            print(\"You win!\")\n",
    "            break\n",
    "\n",
    "# if dealer and player both have 21, dealer wins!\n",
    "if sum(dealer_cards) == 21: \n",
    "    print(\"Dealer has 21 and wins!\")\n",
    "\n",
    "if sum(player_cards) == 21 and sum(dealer_cards) != 21:\n",
    "    print(\"You has 21 and wins!\")\n",
    "\n",
    "#if you gey more than 21 points , you lost\n",
    "elif sum(player_cards) > 21:\n",
    "    print(\"You has busted! dealer wins!\")\n",
    "\n",
    "\n"
   ]
  },
  {
   "cell_type": "code",
   "execution_count": 63,
   "metadata": {},
   "outputs": [],
   "source": [
    "from math import pi\n",
    "from math import sqrt\n",
    "import numpy as np\n",
    "import matplotlib.pyplot as plt\n",
    "\n",
    "class NormalDist:\n",
    "\n",
    "    def __mu(self) -> float:\n",
    "        pass\n",
    "\n",
    "    def __sigma(self) -> float:\n",
    "        pass\n",
    "\n",
    "\n",
    "    def __init__(self, mu:float, sigma:float) -> None:\n",
    "        self.mu = mu\n",
    "        self.sigma = sigma\n",
    "\n",
    "    def pdf(self, x) -> float:\n",
    "        return (1/(self.sigma*sqrt(2*pi)))*np.exp(-0.5*((x-self.mu)/self.sigma)**2)\n",
    "\n",
    "    def plot_df(self, x:float) -> None:\n",
    "        plt.figure(dpi = 100, figsize = (10,3))\n",
    "\n",
    "\n"
   ]
  },
  {
   "cell_type": "code",
   "execution_count": 74,
   "metadata": {},
   "outputs": [
    {
     "name": "stdout",
     "output_type": "stream",
     "text": [
      "Adam Gustafsson 25\n",
      "Emil Johansson 23\n",
      "Sven Erik Karlsson 13\n",
      "Ove Karlsten 41\n",
      "Emma Boden 32\n",
      "Ida HÃ¥kansson 23\n",
      "Ella Ester 41\n",
      "Hanna Karlsson 23 \n",
      "Johan Johansson 42\n",
      "Sven Erik Lundin 39\n",
      "BjÃ¶rn BjÃ¶rnsson 39\n",
      "Karl Karlsson 32\n",
      "Bose Bosseson 32\n",
      "HÃ¥kan HÃ¥kanson 24\n",
      "Jonas Jonasson 31\n",
      "Erik Eriksson 31\n",
      "Gore Bord 55\n",
      "Jakob Kallander 65\n",
      "Fredrika Ulven 10\n"
     ]
    }
   ],
   "source": [
    "path=\"test_result.txt\"\n",
    "with open (path, \"r\") as f:\n",
    "    text=f.read()\n",
    "\n",
    "print(text)"
   ]
  },
  {
   "cell_type": "code",
   "execution_count": 1,
   "metadata": {},
   "outputs": [
    {
     "name": "stdout",
     "output_type": "stream",
     "text": [
      "9\n",
      "Wrong! You guessed too high\n",
      "Wrong! You guessed too low\n",
      "Wrong! You guessed too low\n",
      "Wrong! You guessed too low\n",
      "Wrong! You guessed too low\n",
      "Wrong! You guessed too low\n",
      "Wrong! You guessed too low\n",
      "Wrong! You guessed too low\n",
      "Wrong! You guessed too low\n",
      "Right!\n"
     ]
    }
   ],
   "source": [
    "import random as rnd\n",
    "rnd.seed(66) \n",
    "n=rnd.randint(0,100)\n",
    "print(n)\n",
    "\n",
    "while True:\n",
    "\n",
    "  guess=int(input(\"Guess a number 1 - 100\"))\n",
    "  \n",
    "  if guess == n:\n",
    "    print(\"Right!\")\n",
    "    break\n",
    "\n",
    "  if guess > n:\n",
    "      print (\"Wrong! You guessed too high\")\n",
    "  if guess < n:\n",
    "      print (\"Wrong! You guessed too low\")"
   ]
  },
  {
   "cell_type": "code",
   "execution_count": 3,
   "metadata": {},
   "outputs": [
    {
     "name": "stdout",
     "output_type": "stream",
     "text": [
      "ticket cost must between 0 and 100!\n",
      "ticket cost must between 0 and 100!\n",
      "invalid literal for int() with base 10: 'ee'\n",
      "invalid literal for int() with base 10: '\"e\"'\n",
      "invalid literal for int() with base 10: '/1'\n",
      "It costs 2 kr for each ticket\n"
     ]
    }
   ],
   "source": [
    "while True:\n",
    "    \n",
    "    ticket = input(\"How much does one ticket cost?\")\n",
    "\n",
    "    try: \n",
    "        ticket = int(ticket)\n",
    "        if not 0<=ticket<=100: \n",
    "           raise ValueError(\"ticket cost must between 0 and 100!\") \n",
    "        print(f\"It costs {ticket} kr for each ticket\")\n",
    "        break\n",
    "    except ValueError as err:\n",
    "        print(err)"
   ]
  },
  {
   "cell_type": "code",
   "execution_count": 11,
   "metadata": {},
   "outputs": [
    {
     "name": "stdout",
     "output_type": "stream",
     "text": [
      "['Adam Gustafsson 25', 'BjÃ¶rn BjÃ¶rnsson 39', 'Bose Bosseson 32', 'Ella Ester 41', 'Emil Johansson 23', 'Emma Boden 32', 'Erik Eriksson 31', 'Fredrika Ulven 10', 'Gore Bord 55', 'Hanna Karlsson 23 ', 'HÃ¥kan HÃ¥kanson 24', 'Ida HÃ¥kansson 23', 'Jakob Kallander 65', 'Johan Johansson 42', 'Jonas Jonasson 31', 'Karl Karlsson 32', 'Ove Karlsten 41', 'Sven Erik Karlsson 13', 'Sven Erik Lundin 39']\n"
     ]
    }
   ],
   "source": [
    "path = \"test_result.txt\"\n",
    "with open (path, \"r+\") as f:\n",
    "    text = [word.strip(\"\\n\") for word in f.readlines()]\n",
    "    text.sort()\n",
    "print(text)"
   ]
  },
  {
   "cell_type": "code",
   "execution_count": 32,
   "metadata": {},
   "outputs": [
    {
     "name": "stdout",
     "output_type": "stream",
     "text": [
      "Please input only float or integer, not <class 'str'>\n",
      "The probability density at x= 1 is: 0.17603266338214976\n"
     ]
    },
    {
     "data": {
      "image/png": "[encoded data removed]",
      "text/plain": [
       "<Figure size 432x288 with 1 Axes>"
      ]
     },
     "metadata": {
      "needs_background": "light"
     },
     "output_type": "display_data"
    },
    {
     "name": "stdout",
     "output_type": "stream",
     "text": [
      "Normal distribution with (mean, standard deviation): (-1, 4)\n"
     ]
    },
    {
     "data": {
      "image/png": "[encoded data removed]",
      "text/plain": [
       "<Figure size 432x288 with 1 Axes>"
      ]
     },
     "metadata": {
      "needs_background": "light"
     },
     "output_type": "display_data"
    }
   ],
   "source": [
    "import numpy as np\n",
    "from math import sqrt \n",
    "from math import pi\n",
    "import matplotlib.pyplot as plt\n",
    "\n",
    "class NormalDist():\n",
    "    def __init__ (self, mu:float, sigma:float) -> None:\n",
    "        self.mu = mu\n",
    "        self.sigma = sigma\n",
    "\n",
    "    @property\n",
    "    def mu(self): return self._mu\n",
    "    \n",
    "    @mu.setter\n",
    "    def mu(self, value): \n",
    "        self._mu = self.validate_value(value)\n",
    "\n",
    "    @property\n",
    "    def sigma(self): return self._sigma\n",
    "    \n",
    "    @sigma.setter\n",
    "    def sigma(self, value2): \n",
    "        self._sigma = self.validate_value2(value2)\n",
    "\n",
    "    @staticmethod\n",
    "    def validate_value(value):\n",
    "        if not isinstance(value, (float, int)):\n",
    "            raise TypeError (f\"Please input only float or integer, not {type(value)}\") \n",
    "        return value\n",
    "\n",
    "    @staticmethod\n",
    "    def validate_value2(value2):\n",
    "        if not isinstance(value2, (float, int)):\n",
    "            raise TypeError (f\"Sigma must be float/int\") \n",
    "        if value2 <= 0:\n",
    "            raise ValueError (f\"Sigma must be positive\") \n",
    "\n",
    "        return value2\n",
    "\n",
    "\n",
    "    def pdf(self,x:float) -> float:\n",
    "        prob_density = (1/(self.sigma*sqrt(2*pi))) * np.exp(-0.5*((x-self.mu)/self.sigma)**2)\n",
    "        return prob_density\n",
    "\n",
    "    def plot_pdf(self, x:float) -> None:\n",
    "        \n",
    "        plt.plot(x, self.pdf(x))\n",
    "        plt.title(\"The probability density of x\")\n",
    "        plt.xlabel(\"x\")\n",
    "        plt.ylabel(\"pdf(x)\")\n",
    "        plt.show()\n",
    "\n",
    "    def __add__(self, other: \"NormalDist\") -> \"NormalDist\":\n",
    "        mu_add = self.mu + other.mu\n",
    "        sigma_add = self.sigma + other.sigma\n",
    "        return NormalDist(mu_add, sigma_add)\n",
    "\n",
    "    def __repr__(self):\n",
    "        return f\"Normal distribution with (mean, standard deviation): ({self.mu}, {self.sigma})\"\n",
    "\n",
    "try: \n",
    "    norm = NormalDist(\"0\",1) # standard normal dist\n",
    "except TypeError as err:\n",
    "    print(err)\n",
    "\n",
    "norm1 = NormalDist(0,2) # standard normal dist\n",
    "\n",
    "\n",
    "print(f\"The probability density at x= 1 is: {norm1.pdf(1)}\") # så får du f(1)\n",
    "\n",
    "x = np.linspace(-3*norm1.sigma, 3*norm1.sigma)\n",
    "#x = np.linspace(-3,3)\n",
    "norm1.plot_pdf(x) # ger en plot\n",
    "\n",
    "norm2 = NormalDist(-1,2)\n",
    "norm3 = norm1 + norm2\n",
    "print(norm3)\n",
    "\n",
    "x = np.linspace(-3*norm3.sigma, 3*norm3.sigma)\n",
    "#x = np.linspace(-10,10) \n",
    "norm3.plot_pdf(x)"
   ]
  }
 ],
 "metadata": {
  "interpreter": {
   "hash": "7565875fc860841d1ac58932c3399b2f9de3300a7321d66f878423c047ece803"
  },
  "kernelspec": {
   "display_name": "Python 3.9.6 64-bit ('python-programming-Kun-Han-lwkoREgH': virtualenv)",
   "name": "python3"
  },
  "language_info": {
   "codemirror_mode": {
    "name": "ipython",
    "version": 3
   },
   "file_extension": ".py",
   "mimetype": "text/x-python",
   "name": "python",
   "nbconvert_exporter": "python",
   "pygments_lexer": "ipython3",
   "version": "3.9.6"
  },
  "orig_nbformat": 4
 },
 "nbformat": 4,
 "nbformat_minor": 2
}
