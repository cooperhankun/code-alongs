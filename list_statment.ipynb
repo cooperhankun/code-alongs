{
 "cells": [
  {
   "cell_type": "code",
   "execution_count": 1,
   "metadata": {},
   "outputs": [
    {
     "name": "stdout",
     "output_type": "stream",
     "text": [
      "[0, 1, 8, 27, 64, 125, 216, 343, 512, 729]\n"
     ]
    }
   ],
   "source": [
    "cubes=[]\n",
    "\n",
    "for i in range(10):\n",
    "    cubes.append(i**3)\n",
    "print(cubes)\n"
   ]
  },
  {
   "cell_type": "code",
   "execution_count": 3,
   "metadata": {},
   "outputs": [
    {
     "name": "stdout",
     "output_type": "stream",
     "text": [
      "[0, 1, 8, 27, 64, 125, 216, 343, 512, 729]\n"
     ]
    }
   ],
   "source": [
    "cubes2=[x**3 for x in range(10)]\n",
    "print(cubes2)"
   ]
  },
  {
   "cell_type": "code",
   "execution_count": 7,
   "metadata": {},
   "outputs": [
    {
     "name": "stdout",
     "output_type": "stream",
     "text": [
      "[3, 2, 5, 6, 1, 5, 1, 4, 2, 3]\n",
      "[1, 1, 2, 2, 3, 3, 4, 5, 5, 6]\n"
     ]
    }
   ],
   "source": [
    "import random as rnd\n",
    "dices= [rnd.randint(1,6) for i in range(10)]\n",
    "print(dices)\n",
    "dices.sort()\n",
    "print(dices)"
   ]
  },
  {
   "cell_type": "code",
   "execution_count": 35,
   "metadata": {},
   "outputs": [
    {
     "name": "stdout",
     "output_type": "stream",
     "text": [
      "['Antikrundan', 'Mästerkockarna', 'Aktuellt', 'Talang']\n",
      "['Talang', 'Mästerkockarna', 'Antikrundan', 'Aktuellt']\n"
     ]
    }
   ],
   "source": [
    "tv_shows = [\"Antikrundan\", \"Mästerkockarna\", \"Aktuellt\" , \"Talang\"]\n",
    "\n",
    "print(tv_shows) \n",
    "\n",
    "tv_shows.sort(reverse=True)\n",
    "print(tv_shows)"
   ]
  },
  {
   "cell_type": "code",
   "execution_count": 36,
   "metadata": {},
   "outputs": [
    {
     "ename": "SyntaxError",
     "evalue": "cannot assign to function call (Temp/ipykernel_5168/1600411515.py, line 2)",
     "output_type": "error",
     "traceback": [
      "\u001b[1;36m  File \u001b[1;32m\"C:\\Users\\Kun\\AppData\\Local\\Temp/ipykernel_5168/1600411515.py\"\u001b[1;36m, line \u001b[1;32m2\u001b[0m\n\u001b[1;33m    example_tuple(2)=5\u001b[0m\n\u001b[1;37m    ^\u001b[0m\n\u001b[1;31mSyntaxError\u001b[0m\u001b[1;31m:\u001b[0m cannot assign to function call\n"
     ]
    }
   ],
   "source": [
    "example_tuple=(1,2,3)\n",
    "example_tuple(2)=5"
   ]
  },
  {
   "cell_type": "code",
   "execution_count": 40,
   "metadata": {},
   "outputs": [
    {
     "name": "stdout",
     "output_type": "stream",
     "text": [
      "grades[1]: ['B', 25]\n",
      "grades[1][0]: betyg B\n"
     ]
    }
   ],
   "source": [
    "# list in a list\n",
    "\n",
    "grades=[[\"A\", 30],[\"B\", 25],[\"C\", 20]]\n",
    "grades[1][1]\n",
    "print(f\"grades[1]: {grades[1]}\")\n",
    "print(f\"grades[1][0]: betyg {grades[1][0]}\")\n"
   ]
  }
 ],
 "metadata": {
  "interpreter": {
   "hash": "7565875fc860841d1ac58932c3399b2f9de3300a7321d66f878423c047ece803"
  },
  "kernelspec": {
   "display_name": "Python 3.9.6 64-bit ('python-programming-Kun-Han-lwkoREgH': virtualenv)",
   "name": "python3"
  },
  "language_info": {
   "codemirror_mode": {
    "name": "ipython",
    "version": 3
   },
   "file_extension": ".py",
   "mimetype": "text/x-python",
   "name": "python",
   "nbconvert_exporter": "python",
   "pygments_lexer": "ipython3",
   "version": "3.9.6"
  },
  "orig_nbformat": 4
 },
 "nbformat": 4,
 "nbformat_minor": 2
}
