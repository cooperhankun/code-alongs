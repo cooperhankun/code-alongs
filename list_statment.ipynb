{
 "cells": [
  {
   "cell_type": "code",
   "execution_count": 2,
   "source": [
    "cubes=[]\r\n",
    "\r\n",
    "for i in range(10):\r\n",
    "    cubes.append(1**3)\r\n",
    "print(cubes)\r\n"
   ],
   "outputs": [
    {
     "output_type": "stream",
     "name": "stdout",
     "text": [
      "[1, 1, 1, 1, 1, 1, 1, 1, 1, 1]\n"
     ]
    }
   ],
   "metadata": {}
  },
  {
   "cell_type": "code",
   "execution_count": 3,
   "source": [
    "cubes2=[x**3 for x in range(10)]\r\n",
    "print(cubes2)"
   ],
   "outputs": [
    {
     "output_type": "stream",
     "name": "stdout",
     "text": [
      "[0, 1, 8, 27, 64, 125, 216, 343, 512, 729]\n"
     ]
    }
   ],
   "metadata": {}
  },
  {
   "cell_type": "code",
   "execution_count": 7,
   "source": [
    "import random as rnd\r\n",
    "dices= [rnd.randint(1,6) for i in range(10)]\r\n",
    "print(dices)\r\n",
    "dices.sort()\r\n",
    "print(dices)"
   ],
   "outputs": [
    {
     "output_type": "stream",
     "name": "stdout",
     "text": [
      "[3, 2, 5, 6, 1, 5, 1, 4, 2, 3]\n",
      "[1, 1, 2, 2, 3, 3, 4, 5, 5, 6]\n"
     ]
    }
   ],
   "metadata": {}
  },
  {
   "cell_type": "code",
   "execution_count": 35,
   "source": [
    "tv_shows = [\"Antikrundan\", \"Mästerkockarna\", \"Aktuellt\" , \"Talang\"]\r\n",
    "\r\n",
    "print(tv_shows) \r\n",
    "\r\n",
    "tv_shows.sort(reverse=True)\r\n",
    "print(tv_shows)"
   ],
   "outputs": [
    {
     "output_type": "stream",
     "name": "stdout",
     "text": [
      "['Antikrundan', 'Mästerkockarna', 'Aktuellt', 'Talang']\n",
      "['Talang', 'Mästerkockarna', 'Antikrundan', 'Aktuellt']\n"
     ]
    }
   ],
   "metadata": {}
  },
  {
   "cell_type": "code",
   "execution_count": 36,
   "source": [
    "example_tuple=(1,2,3)\r\n",
    "example_tuple(2)=5"
   ],
   "outputs": [
    {
     "output_type": "error",
     "ename": "SyntaxError",
     "evalue": "cannot assign to function call (Temp/ipykernel_5168/1600411515.py, line 2)",
     "traceback": [
      "\u001b[1;36m  File \u001b[1;32m\"C:\\Users\\Kun\\AppData\\Local\\Temp/ipykernel_5168/1600411515.py\"\u001b[1;36m, line \u001b[1;32m2\u001b[0m\n\u001b[1;33m    example_tuple(2)=5\u001b[0m\n\u001b[1;37m    ^\u001b[0m\n\u001b[1;31mSyntaxError\u001b[0m\u001b[1;31m:\u001b[0m cannot assign to function call\n"
     ]
    }
   ],
   "metadata": {}
  },
  {
   "cell_type": "code",
   "execution_count": 40,
   "source": [
    "# list in a list\r\n",
    "\r\n",
    "grades=[[\"A\", 30],[\"B\", 25],[\"C\", 20]]\r\n",
    "grades[1][1]\r\n",
    "print(f\"grades[1]: {grades[1]}\")\r\n",
    "print(f\"grades[1][0]: betyg {grades[1][0]}\")\r\n"
   ],
   "outputs": [
    {
     "output_type": "stream",
     "name": "stdout",
     "text": [
      "grades[1]: ['B', 25]\n",
      "grades[1][0]: betyg B\n"
     ]
    }
   ],
   "metadata": {}
  }
 ],
 "metadata": {
  "orig_nbformat": 4,
  "language_info": {
   "name": "python",
   "version": "3.9.6",
   "mimetype": "text/x-python",
   "codemirror_mode": {
    "name": "ipython",
    "version": 3
   },
   "pygments_lexer": "ipython3",
   "nbconvert_exporter": "python",
   "file_extension": ".py"
  },
  "kernelspec": {
   "name": "python3",
   "display_name": "Python 3.9.6 64-bit ('python-programming-Kun-Han-lwkoREgH': pipenv)"
  },
  "interpreter": {
   "hash": "7565875fc860841d1ac58932c3399b2f9de3300a7321d66f878423c047ece803"
  }
 },
 "nbformat": 4,
 "nbformat_minor": 2
}