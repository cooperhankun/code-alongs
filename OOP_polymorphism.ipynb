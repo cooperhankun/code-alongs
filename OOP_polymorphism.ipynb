{
 "cells": [
  {
   "cell_type": "markdown",
   "metadata": {},
   "source": [
    "# OOP Polymorphism\n",
    "\n",
    "- methods and operators can be used in different ways for different types"
   ]
  },
  {
   "cell_type": "code",
   "execution_count": 5,
   "metadata": {},
   "outputs": [
    {
     "name": "stdout",
     "output_type": "stream",
     "text": [
      "3\n",
      "4\n",
      "abc5\n",
      "11\n"
     ]
    }
   ],
   "source": [
    "s1 = \"abc\"\n",
    "l1= [1,2,3,4]\n",
    "print(len(s1))\n",
    "print(len(l1))\n",
    "\n",
    "s2 = s1 + \"5\" # operator makes string concatenation\n",
    "print(s2)\n",
    "\n",
    "num1 = 5+6 # operator makes arithemetic addition of two integers\n",
    "print(num1)"
   ]
  },
  {
   "cell_type": "code",
   "execution_count": 8,
   "metadata": {},
   "outputs": [
    {
     "name": "stdout",
     "output_type": "stream",
     "text": [
      "I am a fish, my name is Wanda\n",
      "Blupp blupp\n",
      "I am a fox, my name is Ylvis, my sound is weird\n"
     ]
    }
   ],
   "source": [
    "class Fish:\n",
    "    def __init__(self, name) -> None:\n",
    "        self.name = name\n",
    "\n",
    "    def __str__(self):\n",
    "        return f\"I am a fish, my name is {self.name}\"\n",
    "\n",
    "    def speak(self):\n",
    "        print(\"Blupp blupp\")\n",
    "\n",
    "class Fox:\n",
    "    def __init__(self, name) -> str:\n",
    "        self.name = name\n",
    "\n",
    "    def __str__(self) -> str:\n",
    "        return f\"I am a fox, my name is {self.name}, my sound is weird\"\n",
    "\n",
    "    def speak(self):\n",
    "        return NotImplemented # what does the frox say\n",
    "\n",
    "animals = (Fish(\"Wanda\"), Fox(\"Ylvis\"))\n",
    "\n",
    "for animal in animals:\n",
    "    print(animal)\n",
    "    animal.speak()\n"
   ]
  },
  {
   "cell_type": "markdown",
   "metadata": {},
   "source": [
    "## polymorphism in inheritance"
   ]
  },
  {
   "cell_type": "code",
   "execution_count": 10,
   "metadata": {},
   "outputs": [
    {
     "name": "stdout",
     "output_type": "stream",
     "text": [
      "I am a fish, my name is Wanda\n",
      "Blupp blupp\n",
      "I am a fox, my name is Ylvis, my sound is weird\n",
      "Hello I am a animal\n"
     ]
    }
   ],
   "source": [
    "class Animal:\n",
    "    # will run a default init\n",
    "\n",
    "    def speak(self):\n",
    "        print(\"Hello I am a animal\")\n",
    "\n",
    "\n",
    "class Fish(Animal):\n",
    "    def __init__(self, name) -> None:\n",
    "        self.name = name\n",
    "\n",
    "    def __str__(self):\n",
    "        return f\"I am a fish, my name is {self.name}\"\n",
    "\n",
    "    def speak(self):\n",
    "        print(\"Blupp blupp\")\n",
    "\n",
    "class Fox(Animal):\n",
    "    def __init__(self, name) -> str:\n",
    "        self.name = name\n",
    "\n",
    "    def __str__(self) -> str:\n",
    "        return f\"I am a fox, my name is {self.name}, my sound is weird\"\n",
    "\n",
    "    # def speak(self): # if you not excte this, it will print the class speak\n",
    "        return NotImplemented # what does the frox say\n",
    "\n",
    "animals = (Fish(\"Wanda\"), Fox(\"Ylvis\"))\n",
    "\n",
    "for animal in animals:\n",
    "    print(animal)\n",
    "    animal.speak()"
   ]
  },
  {
   "cell_type": "markdown",
   "metadata": {},
   "source": [
    "## Operator overloading\n",
    "\n",
    "- +, -, /, //, %, **, <>, <=,...\n",
    "- see vector example"
   ]
  },
  {
   "cell_type": "code",
   "execution_count": null,
   "metadata": {},
   "outputs": [],
   "source": []
  }
 ],
 "metadata": {
  "interpreter": {
   "hash": "7565875fc860841d1ac58932c3399b2f9de3300a7321d66f878423c047ece803"
  },
  "kernelspec": {
   "display_name": "Python 3.9.6 64-bit ('python-programming-Kun-Han-lwkoREgH': virtualenv)",
   "name": "python3"
  },
  "language_info": {
   "codemirror_mode": {
    "name": "ipython",
    "version": 3
   },
   "file_extension": ".py",
   "mimetype": "text/x-python",
   "name": "python",
   "nbconvert_exporter": "python",
   "pygments_lexer": "ipython3",
   "version": "3.9.6"
  },
  "orig_nbformat": 4
 },
 "nbformat": 4,
 "nbformat_minor": 2
}
