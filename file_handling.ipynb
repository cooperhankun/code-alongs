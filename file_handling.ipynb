{
 "cells": [
  {
   "cell_type": "markdown",
   "source": [
    "# file handling \r\n",
    "\r\n",
    "options:\r\n",
    "\r\n",
    "- \"r\" - read\r\n",
    "- \"a\" - append\r\n",
    "- \"w\" - write\r\n",
    "- \"x\" - create"
   ],
   "metadata": {}
  },
  {
   "cell_type": "code",
   "execution_count": 9,
   "source": [
    "# with -> use this when openning files\r\n",
    "# take care of error handling\r\n",
    "# take care of closing down the file\r\n",
    "\r\n",
    "with open(\"files/quotes.txt\", \"r\") as f: # \"r\" option -> read file\r\n",
    "    text = f.read()\r\n",
    "\r\n",
    "# print(text)\r\n",
    "\r\n",
    "print(repr(text))"
   ],
   "outputs": [
    {
     "output_type": "stream",
     "name": "stdout",
     "text": [
      "'  If     we     knew what it was      we were doing, it would not be called research,          would it?     - Albert Einstein\\n\\nTime is a drug. Too       much of it kills you.  -  Terry Pratchett\\n\\n\\n An expert is a person who       has made all the mistakes that           can be made in a          very narrow field - Niels Bohr\\n\\n   Everything must be made as simple as possible. But not simpler. - Albert Einstein     \\n\\n\\n  Nothing in life                is to be feared, it is only to be understood. Now is the time to understand more, so that we may fear less. - Marie  Curie  \\n\\nIf I have seen further     it is by standing on the shoulders of Giants. - Isaac Newton'\n"
     ]
    }
   ],
   "metadata": {}
  },
  {
   "cell_type": "markdown",
   "source": [
    "## clean up quotes.txt\r\n",
    "- inspect quotes.txt\r\n",
    "- remove leading and trailing whitespaces\r\n",
    "- remove excessive whitespaces between words\r\n",
    "- add quotes numbers\r\n",
    "- extract authors"
   ],
   "metadata": {}
  },
  {
   "cell_type": "code",
   "execution_count": 15,
   "source": [
    "path = \"files/quotes.txt\"\r\n",
    "\r\n",
    "with open (path, \"r\") as f1: \r\n",
    "     quotes = f1.readlines()\r\n",
    "     print(quotes)\r\n"
   ],
   "outputs": [
    {
     "output_type": "stream",
     "name": "stdout",
     "text": [
      "['  If     we     knew what it was      we were doing, it would not be called research,          would it?     - Albert Einstein\\n', '\\n', 'Time is a drug. Too       much of it kills you.  -  Terry Pratchett\\n', '\\n', '\\n', ' An expert is a person who       has made all the mistakes that           can be made in a          very narrow field - Niels Bohr\\n', '\\n', '   Everything must be made as simple as possible. But not simpler. - Albert Einstein     \\n', '\\n', '\\n', '  Nothing in life                is to be feared, it is only to be understood. Now is the time to understand more, so that we may fear less. - Marie  Curie  \\n', '\\n', 'If I have seen further     it is by standing on the shoulders of Giants. - Isaac Newton']\n"
     ]
    }
   ],
   "metadata": {}
  },
  {
   "cell_type": "code",
   "execution_count": 21,
   "source": [
    "path = \"files/quotes.txt\"\r\n",
    "\r\n",
    "with open (path, \"r\") as f1: \r\n",
    "    \r\n",
    "    quotes = [quotes.strip(\"\\n\") for quotes in f1.readlines()] # remove the \\n\r\n",
    "    print(quotes)"
   ],
   "outputs": [
    {
     "output_type": "stream",
     "name": "stdout",
     "text": [
      "['  If     we     knew what it was      we were doing, it would not be called research,          would it?     - Albert Einstein', '', 'Time is a drug. Too       much of it kills you.  -  Terry Pratchett', '', '', ' An expert is a person who       has made all the mistakes that           can be made in a          very narrow field - Niels Bohr', '', '   Everything must be made as simple as possible. But not simpler. - Albert Einstein     ', '', '', '  Nothing in life                is to be feared, it is only to be understood. Now is the time to understand more, so that we may fear less. - Marie  Curie  ', '', 'If I have seen further     it is by standing on the shoulders of Giants. - Isaac Newton']\n"
     ]
    }
   ],
   "metadata": {}
  },
  {
   "cell_type": "code",
   "execution_count": 50,
   "source": [
    "import re\r\n",
    "path = \"files/quotes.txt\"\r\n",
    "\r\n",
    "with open (path, \"r\") as f1: \r\n",
    "    \r\n",
    "    for words in f1.readlines():\r\n",
    "        quotes = words.strip(\" \\n\") # remove leading and trailing whitespaces and newlines\r\n",
    "        quote = re.sub(\" +\", \" \", quote) # substitutes -> 1 whitespaces with one whitespaces\r\n",
    "        print(repr(quotes))\r\n",
    "\r\n",
    "        "
   ],
   "outputs": [
    {
     "output_type": "stream",
     "name": "stdout",
     "text": [
      "'If     we     knew what it was      we were doing, it would not be called research,          would it?     - Albert Einstein'\n",
      "''\n",
      "'Time is a drug. Too       much of it kills you.  -  Terry Pratchett'\n",
      "''\n",
      "''\n",
      "'An expert is a person who       has made all the mistakes that           can be made in a          very narrow field - Niels Bohr'\n",
      "''\n",
      "'Everything must be made as simple as possible. But not simpler. - Albert Einstein'\n",
      "''\n",
      "''\n",
      "'Nothing in life                is to be feared, it is only to be understood. Now is the time to understand more, so that we may fear less. - Marie  Curie'\n",
      "''\n",
      "'If I have seen further     it is by standing on the shoulders of Giants. - Isaac Newton'\n"
     ]
    }
   ],
   "metadata": {}
  }
 ],
 "metadata": {
  "orig_nbformat": 4,
  "language_info": {
   "name": "python",
   "version": "3.9.6",
   "mimetype": "text/x-python",
   "codemirror_mode": {
    "name": "ipython",
    "version": 3
   },
   "pygments_lexer": "ipython3",
   "nbconvert_exporter": "python",
   "file_extension": ".py"
  },
  "kernelspec": {
   "name": "python3",
   "display_name": "Python 3.9.6 64-bit"
  },
  "interpreter": {
   "hash": "ded964624c0da0089d9183eb236546880599c5ca771d587a021b71135ab6c6eb"
  }
 },
 "nbformat": 4,
 "nbformat_minor": 2
}