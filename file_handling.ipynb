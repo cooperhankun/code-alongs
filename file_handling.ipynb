{
 "cells": [
  {
   "cell_type": "markdown",
   "metadata": {},
   "source": [
    "# file handling \n",
    "\n",
    "options:\n",
    "\n",
    "- \"r\" - read\n",
    "- \"a\" - append\n",
    "- \"w\" - write\n",
    "- \"x\" - create"
   ]
  },
  {
   "cell_type": "code",
   "execution_count": 9,
   "metadata": {},
   "outputs": [
    {
     "name": "stdout",
     "output_type": "stream",
     "text": [
      "'  If     we     knew what it was      we were doing, it would not be called research,          would it?     - Albert Einstein\\n\\nTime is a drug. Too       much of it kills you.  -  Terry Pratchett\\n\\n\\n An expert is a person who       has made all the mistakes that           can be made in a          very narrow field - Niels Bohr\\n\\n   Everything must be made as simple as possible. But not simpler. - Albert Einstein     \\n\\n\\n  Nothing in life                is to be feared, it is only to be understood. Now is the time to understand more, so that we may fear less. - Marie  Curie  \\n\\nIf I have seen further     it is by standing on the shoulders of Giants. - Isaac Newton'\n"
     ]
    }
   ],
   "source": [
    "# with -> use this when openning files\n",
    "# take care of error handling\n",
    "# take care of closing down the file\n",
    "\n",
    "with open(\"files/quotes.txt\", \"r\") as f: # \"r\" option -> read file\n",
    "    text = f.read()\n",
    "\n",
    "# print(text)\n",
    "\n",
    "print(repr(text))"
   ]
  },
  {
   "cell_type": "markdown",
   "metadata": {},
   "source": [
    "## clean up quotes.txt\n",
    "- inspect quotes.txt\n",
    "- remove leading and trailing whitespaces\n",
    "- remove excessive whitespaces between words\n",
    "- add quotes numbers\n",
    "- extract authors"
   ]
  },
  {
   "cell_type": "code",
   "execution_count": 15,
   "metadata": {},
   "outputs": [
    {
     "name": "stdout",
     "output_type": "stream",
     "text": [
      "['  If     we     knew what it was      we were doing, it would not be called research,          would it?     - Albert Einstein\\n', '\\n', 'Time is a drug. Too       much of it kills you.  -  Terry Pratchett\\n', '\\n', '\\n', ' An expert is a person who       has made all the mistakes that           can be made in a          very narrow field - Niels Bohr\\n', '\\n', '   Everything must be made as simple as possible. But not simpler. - Albert Einstein     \\n', '\\n', '\\n', '  Nothing in life                is to be feared, it is only to be understood. Now is the time to understand more, so that we may fear less. - Marie  Curie  \\n', '\\n', 'If I have seen further     it is by standing on the shoulders of Giants. - Isaac Newton']\n"
     ]
    }
   ],
   "source": [
    "path = \"files/quotes.txt\"\n",
    "\n",
    "with open (path, \"r\") as f1: \n",
    "     quotes = f1.readlines()\n",
    "     print(quotes)\n"
   ]
  },
  {
   "cell_type": "code",
   "execution_count": 21,
   "metadata": {},
   "outputs": [
    {
     "name": "stdout",
     "output_type": "stream",
     "text": [
      "['  If     we     knew what it was      we were doing, it would not be called research,          would it?     - Albert Einstein', '', 'Time is a drug. Too       much of it kills you.  -  Terry Pratchett', '', '', ' An expert is a person who       has made all the mistakes that           can be made in a          very narrow field - Niels Bohr', '', '   Everything must be made as simple as possible. But not simpler. - Albert Einstein     ', '', '', '  Nothing in life                is to be feared, it is only to be understood. Now is the time to understand more, so that we may fear less. - Marie  Curie  ', '', 'If I have seen further     it is by standing on the shoulders of Giants. - Isaac Newton']\n"
     ]
    }
   ],
   "source": [
    "path = \"files/quotes.txt\"\n",
    "\n",
    "with open (path, \"r\") as f1: \n",
    "    \n",
    "    quotes = [quotes.strip(\"\\n\") for quotes in f1.readlines()] # remove the \\n\n",
    "    print(quotes)"
   ]
  },
  {
   "cell_type": "code",
   "execution_count": 87,
   "metadata": {},
   "outputs": [
    {
     "name": "stdout",
     "output_type": "stream",
     "text": [
      "'If we knew what it was we were doing, it would not be called research, would it? - Albert Einstein'\n",
      "''\n",
      "'Time is a drug. Too much of it kills you. - Terry Pratchett'\n",
      "''\n",
      "''\n",
      "'An expert is a person who has made all the mistakes that can be made in a very narrow field - Niels Bohr'\n",
      "''\n",
      "'Everything must be made as simple as possible. But not simpler. - Albert Einstein'\n",
      "''\n",
      "''\n",
      "'Nothing in life is to be feared, it is only to be understood. Now is the time to understand more, so that we may fear less. - Marie Curie'\n",
      "''\n",
      "'If I have seen further it is by standing on the shoulders of Giants. - Isaac Newton'\n"
     ]
    }
   ],
   "source": [
    "import re\n",
    "\n",
    "path = \"files/quotes.txt\"\n",
    "path_clean = \"files/quotes_clean.txt\"\n",
    "i=1\n",
    "\n",
    "with open (path, \"r\") as f1, open (path_clean, \"w\") as f2:    \n",
    "\n",
    "    f2.write(\"Famas quotes\")\n",
    "\n",
    "    for words in f1.readlines():\n",
    "        quote = words.strip(\" \\n\") # remove leading and trailing whitespaces and newlines\n",
    "        quote = re.sub(\" +\", \" \", quote) # substitutes -> 1 whitespaces with one whitespaces\n",
    "        print(repr(quote))\n",
    "        \n",
    "        if quote != \"\":\n",
    "            f2.write(f\"{i}. {quote}\\n\")\n",
    "            i += 1\n",
    "\n",
    "\n",
    "        \n",
    "\n",
    "        "
   ]
  },
  {
   "cell_type": "code",
   "execution_count": 88,
   "metadata": {},
   "outputs": [
    {
     "name": "stdout",
     "output_type": "stream",
     "text": [
      "[['Terry', 'Pratchett'], ['Niels', 'Bohr'], ['Albert', 'Einstein'], ['Marie', 'Curie'], ['Isaac', 'Newton']]\n",
      "{'Marie Curie', 'Isaac Newton', 'Albert Einstein', 'Terry Pratchett', 'Niels Bohr'}\n"
     ]
    }
   ],
   "source": [
    "path_clean = \"files/quotes_clean.txt\"\n",
    "\n",
    "with open(path_clean, \"r\") as f1, open(path_clean, \"a\") as f2:\n",
    "    # print(f1.read())\n",
    "    \n",
    "    quotes = [quote.strip(\"\\n\") for quote in f1.readlines() if quote[0].isdigit()]\n",
    "    # print(quotes)\n",
    "\n",
    "    authors = [quote.split()[-2:] for quote in quotes]\n",
    "    print(authors)\n",
    "\n",
    "    authors = set([\" \".join(author) for author in authors])\n",
    "    # set([4,4,4,4,1,1,2]) -> {4,1,2}\n",
    "    print(authors)\n",
    "\n",
    "    f2.write(\"\\nAuthors: \")\n",
    "\n",
    "    for author in authors:\n",
    "       f2.write(f\"{author}\")\n"
   ]
  }
 ],
 "metadata": {
  "interpreter": {
   "hash": "ded964624c0da0089d9183eb236546880599c5ca771d587a021b71135ab6c6eb"
  },
  "kernelspec": {
   "display_name": "Python 3.9.6 64-bit",
   "name": "python3"
  },
  "language_info": {
   "codemirror_mode": {
    "name": "ipython",
    "version": 3
   },
   "file_extension": ".py",
   "mimetype": "text/x-python",
   "name": "python",
   "nbconvert_exporter": "python",
   "pygments_lexer": "ipython3",
   "version": "3.9.6"
  },
  "orig_nbformat": 4
 },
 "nbformat": 4,
 "nbformat_minor": 2
}
