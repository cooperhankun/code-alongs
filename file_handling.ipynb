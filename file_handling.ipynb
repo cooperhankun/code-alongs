{
 "cells": [
  {
   "cell_type": "markdown",
   "source": [
    "# file handling \r\n",
    "\r\n",
    "options:\r\n",
    "\r\n",
    "- \"r\" - read\r\n",
    "- \"a\" - append\r\n",
    "- \"w\" - write\r\n",
    "- \"x\" - create"
   ],
   "metadata": {}
  },
  {
   "cell_type": "code",
   "execution_count": 9,
   "source": [
    "# with -> use this when openning files\r\n",
    "# take care of error handling\r\n",
    "# take care of closing down the file\r\n",
    "\r\n",
    "with open(\"files/quotes.txt\", \"r\") as f: # \"r\" option -> read file\r\n",
    "    text = f.read()\r\n",
    "\r\n",
    "# print(text)\r\n",
    "\r\n",
    "print(repr(text))"
   ],
   "outputs": [
    {
     "output_type": "stream",
     "name": "stdout",
     "text": [
      "'  If     we     knew what it was      we were doing, it would not be called research,          would it?     - Albert Einstein\\n\\nTime is a drug. Too       much of it kills you.  -  Terry Pratchett\\n\\n\\n An expert is a person who       has made all the mistakes that           can be made in a          very narrow field - Niels Bohr\\n\\n   Everything must be made as simple as possible. But not simpler. - Albert Einstein     \\n\\n\\n  Nothing in life                is to be feared, it is only to be understood. Now is the time to understand more, so that we may fear less. - Marie  Curie  \\n\\nIf I have seen further     it is by standing on the shoulders of Giants. - Isaac Newton'\n"
     ]
    }
   ],
   "metadata": {}
  },
  {
   "cell_type": "markdown",
   "source": [
    "## clean up quotes.txt\r\n",
    "- inspect quotes.txt\r\n",
    "- remove leading and trailing whitespaces\r\n",
    "- remove excessive whitespaces between words\r\n",
    "- add quotes numbers\r\n",
    "- extract authors"
   ],
   "metadata": {}
  },
  {
   "cell_type": "code",
   "execution_count": 15,
   "source": [
    "path = \"files/quotes.txt\"\r\n",
    "\r\n",
    "with open (path, \"r\") as f1: \r\n",
    "     quotes = f1.readlines()\r\n",
    "     print(quotes)\r\n"
   ],
   "outputs": [
    {
     "output_type": "stream",
     "name": "stdout",
     "text": [
      "['  If     we     knew what it was      we were doing, it would not be called research,          would it?     - Albert Einstein\\n', '\\n', 'Time is a drug. Too       much of it kills you.  -  Terry Pratchett\\n', '\\n', '\\n', ' An expert is a person who       has made all the mistakes that           can be made in a          very narrow field - Niels Bohr\\n', '\\n', '   Everything must be made as simple as possible. But not simpler. - Albert Einstein     \\n', '\\n', '\\n', '  Nothing in life                is to be feared, it is only to be understood. Now is the time to understand more, so that we may fear less. - Marie  Curie  \\n', '\\n', 'If I have seen further     it is by standing on the shoulders of Giants. - Isaac Newton']\n"
     ]
    }
   ],
   "metadata": {}
  },
  {
   "cell_type": "code",
   "execution_count": 21,
   "source": [
    "path = \"files/quotes.txt\"\r\n",
    "\r\n",
    "with open (path, \"r\") as f1: \r\n",
    "    \r\n",
    "    quotes = [quotes.strip(\"\\n\") for quotes in f1.readlines()] # remove the \\n\r\n",
    "    print(quotes)"
   ],
   "outputs": [
    {
     "output_type": "stream",
     "name": "stdout",
     "text": [
      "['  If     we     knew what it was      we were doing, it would not be called research,          would it?     - Albert Einstein', '', 'Time is a drug. Too       much of it kills you.  -  Terry Pratchett', '', '', ' An expert is a person who       has made all the mistakes that           can be made in a          very narrow field - Niels Bohr', '', '   Everything must be made as simple as possible. But not simpler. - Albert Einstein     ', '', '', '  Nothing in life                is to be feared, it is only to be understood. Now is the time to understand more, so that we may fear less. - Marie  Curie  ', '', 'If I have seen further     it is by standing on the shoulders of Giants. - Isaac Newton']\n"
     ]
    }
   ],
   "metadata": {}
  },
  {
   "cell_type": "code",
   "execution_count": 87,
   "source": [
    "import re\r\n",
    "\r\n",
    "path = \"files/quotes.txt\"\r\n",
    "path_clean = \"files/quotes_clean.txt\"\r\n",
    "i=1\r\n",
    "\r\n",
    "with open (path, \"r\") as f1, open (path_clean, \"w\") as f2:    \r\n",
    "\r\n",
    "    f2.write(\"Famas quotes\")\r\n",
    "\r\n",
    "    for words in f1.readlines():\r\n",
    "        quote = words.strip(\" \\n\") # remove leading and trailing whitespaces and newlines\r\n",
    "        quote = re.sub(\" +\", \" \", quote) # substitutes -> 1 whitespaces with one whitespaces\r\n",
    "        print(repr(quote))\r\n",
    "        \r\n",
    "        if quote != \"\":\r\n",
    "            f2.write(f\"{i}. {quote}\\n\")\r\n",
    "            i += 1\r\n",
    "\r\n",
    "\r\n",
    "        \r\n",
    "\r\n",
    "        "
   ],
   "outputs": [
    {
     "output_type": "stream",
     "name": "stdout",
     "text": [
      "'If we knew what it was we were doing, it would not be called research, would it? - Albert Einstein'\n",
      "''\n",
      "'Time is a drug. Too much of it kills you. - Terry Pratchett'\n",
      "''\n",
      "''\n",
      "'An expert is a person who has made all the mistakes that can be made in a very narrow field - Niels Bohr'\n",
      "''\n",
      "'Everything must be made as simple as possible. But not simpler. - Albert Einstein'\n",
      "''\n",
      "''\n",
      "'Nothing in life is to be feared, it is only to be understood. Now is the time to understand more, so that we may fear less. - Marie Curie'\n",
      "''\n",
      "'If I have seen further it is by standing on the shoulders of Giants. - Isaac Newton'\n"
     ]
    }
   ],
   "metadata": {}
  },
  {
   "cell_type": "code",
   "execution_count": 88,
   "source": [
    "path_clean = \"files/quotes_clean.txt\"\r\n",
    "\r\n",
    "with open(path_clean, \"r\") as f1, open(path_clean, \"a\") as f2:\r\n",
    "    # print(f1.read())\r\n",
    "    \r\n",
    "    quotes = [quote.strip(\"\\n\") for quote in f1.readlines() if quote[0].isdigit()]\r\n",
    "    # print(quotes)\r\n",
    "\r\n",
    "    authors = [quote.split()[-2:] for quote in quotes]\r\n",
    "    print(authors)\r\n",
    "\r\n",
    "    authors = set([\" \".join(author) for author in authors])\r\n",
    "    # set([4,4,4,4,1,1,2]) -> {4,1,2}\r\n",
    "    print(authors)\r\n",
    "\r\n",
    "    f2.write(\"\\nAuthors: \")\r\n",
    "\r\n",
    "    for author in authors:\r\n",
    "       f2.write(f\"{author}\")\r\n"
   ],
   "outputs": [
    {
     "output_type": "stream",
     "name": "stdout",
     "text": [
      "[['Terry', 'Pratchett'], ['Niels', 'Bohr'], ['Albert', 'Einstein'], ['Marie', 'Curie'], ['Isaac', 'Newton']]\n",
      "{'Marie Curie', 'Isaac Newton', 'Albert Einstein', 'Terry Pratchett', 'Niels Bohr'}\n"
     ]
    }
   ],
   "metadata": {}
  }
 ],
 "metadata": {
  "orig_nbformat": 4,
  "language_info": {
   "name": "python",
   "version": "3.9.6",
   "mimetype": "text/x-python",
   "codemirror_mode": {
    "name": "ipython",
    "version": 3
   },
   "pygments_lexer": "ipython3",
   "nbconvert_exporter": "python",
   "file_extension": ".py"
  },
  "kernelspec": {
   "name": "python3",
   "display_name": "Python 3.9.6 64-bit"
  },
  "interpreter": {
   "hash": "ded964624c0da0089d9183eb236546880599c5ca771d587a021b71135ab6c6eb"
  }
 },
 "nbformat": 4,
 "nbformat_minor": 2
}