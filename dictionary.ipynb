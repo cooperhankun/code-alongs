{
 "cells": [
  {
   "cell_type": "markdown",
   "source": [
    "# Dictionary\r\n",
    "\r\n",
    "- key:value pair"
   ],
   "metadata": {}
  },
  {
   "cell_type": "code",
   "execution_count": 10,
   "source": [
    "person = dict(\r\n",
    "    name = \"Kun\",\r\n",
    "    age = 40,\r\n",
    "    work =\"student\",\r\n",
    "    interests = [\"math\", \"programming\", \"python\", \"yoga\"],\r\n",
    "    like_job = True\r\n",
    ")\r\n",
    "print(f\"person dictionary {person}\")\r\n",
    "print(f\"persons name is {person['name']}\")\r\n",
    "print(f\"persons age is {person['age']} years old\")\r\n",
    "\r\n",
    "for interest in person[\"interests\"]:\r\n",
    "    print(f\"{person['name']} likes {interest}\") # same as previous interest\r\n",
    "\r\n"
   ],
   "outputs": [
    {
     "output_type": "stream",
     "name": "stdout",
     "text": [
      "person dictionary {'name': 'Kun', 'age': 40, 'work': 'student', 'interests': ['math', 'programming', 'python', 'yoga'], 'like_job': True}\n",
      "persons name is Kun\n",
      "persons age is 40 years old\n",
      "Kun likes math\n",
      "Kun likes programming\n",
      "Kun likes python\n",
      "Kun likes yoga\n"
     ]
    }
   ],
   "metadata": {}
  },
  {
   "cell_type": "code",
   "execution_count": 12,
   "source": [
    "words = {\r\n",
    "\r\n",
    "    \"data structure\": \"means of storing and oraganising data\",\r\n",
    "    \"lambda\": \"anoymous function\",\r\n",
    "    \"class\": \"blueprint for objects\"\r\n",
    "}\r\n",
    "\r\n",
    "print(\"Vi ska lära oss dessa ord: \")\r\n",
    "\r\n",
    "for key in words:\r\n",
    "    print(key, end=\", \")\r\n",
    "\r\n",
    "print(f\"\\n\\nGlosa{'':<15}  Betydelse\")\r\n",
    "\r\n",
    "for key, value in words.items():\r\n",
    "    print(f\"{key:<21} {value}\")\r\n"
   ],
   "outputs": [
    {
     "output_type": "stream",
     "name": "stdout",
     "text": [
      "Vi ska lära oss dessa ord: \n",
      "data structure, lambda, class, \n",
      "\n",
      "Glosa                 Betydelse\n",
      "data structure        means of storing and oraganising data\n",
      "lambda                anoymous function\n",
      "class                 blueprint for objects\n"
     ]
    }
   ],
   "metadata": {}
  },
  {
   "cell_type": "code",
   "execution_count": 15,
   "source": [
    "words[\"lambda\"] = \"an anonymous fucntion\" # overwrites the previous value for the key lambda\r\n",
    "words[\"regression\"] = \"find a fucntion that best fits observed data\" # add another key: value pair\r\n",
    "print(words)"
   ],
   "outputs": [
    {
     "output_type": "stream",
     "name": "stdout",
     "text": [
      "{'data structure': 'means of storing and oraganising data', 'lambda': 'an anonymous fucntion', 'class': 'blueprint for objects'}\n"
     ]
    }
   ],
   "metadata": {}
  },
  {
   "cell_type": "code",
   "execution_count": 18,
   "source": [
    "# F<10, E:10, D:20, C:30, B:40, A:50\r\n",
    "\r\n",
    "grade_limits = {}\r\n",
    "grades = list(\"ABCDEF\")\r\n",
    "\r\n",
    "print(grades)\r\n",
    "\r\n",
    "for i,  grade in enumerate(grades[::-1]):\r\n",
    "    grade_limits[grade] = i*10\r\n",
    "\r\n",
    "grade_limits[\"F\"] = \"<10\"\r\n",
    "print(grade_limits)"
   ],
   "outputs": [
    {
     "output_type": "stream",
     "name": "stdout",
     "text": [
      "['A', 'B', 'C', 'D', 'E', 'F']\n",
      "{'F': '<10', 'E': 10, 'D': 20, 'C': 30, 'B': 40, 'A': 50}\n"
     ]
    }
   ],
   "metadata": {}
  }
 ],
 "metadata": {
  "orig_nbformat": 4,
  "language_info": {
   "name": "python",
   "version": "3.9.6",
   "mimetype": "text/x-python",
   "codemirror_mode": {
    "name": "ipython",
    "version": 3
   },
   "pygments_lexer": "ipython3",
   "nbconvert_exporter": "python",
   "file_extension": ".py"
  },
  "kernelspec": {
   "name": "python3",
   "display_name": "Python 3.9.6 64-bit ('python-programming-Kun-Han-lwkoREgH': virtualenv)"
  },
  "interpreter": {
   "hash": "7565875fc860841d1ac58932c3399b2f9de3300a7321d66f878423c047ece803"
  }
 },
 "nbformat": 4,
 "nbformat_minor": 2
}