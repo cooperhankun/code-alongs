{
 "cells": [
  {
   "cell_type": "markdown",
   "metadata": {},
   "source": [
    "# Dictionary\n",
    "\n",
    "- key:value pair"
   ]
  },
  {
   "cell_type": "code",
   "execution_count": 1,
   "metadata": {},
   "outputs": [
    {
     "name": "stdout",
     "output_type": "stream",
     "text": [
      "person dictionary {'name': 'Kun', 'age': 40, 'work': 'student', 'interests': ['math', 'programming', 'python', 'yoga'], 'like_job': True}\n",
      "persons name is Kun\n",
      "persons age is 40 years old\n",
      "Kun likes math\n",
      "Kun likes programming\n",
      "Kun likes python\n",
      "Kun likes yoga\n"
     ]
    }
   ],
   "source": [
    "person = dict(\n",
    "    name = \"Kun\",\n",
    "    age = 40,\n",
    "    work =\"student\",\n",
    "    interests = [\"math\", \"programming\", \"python\", \"yoga\"],\n",
    "    like_job = True\n",
    ")\n",
    "print(f\"person dictionary {person}\")\n",
    "print(f\"persons name is {person['name']}\")\n",
    "print(f\"persons age is {person['age']} years old\")\n",
    "\n",
    "for interest in person[\"interests\"]:\n",
    "    print(f\"{person['name']} likes {interest}\") # same as previous interest\n",
    "\n"
   ]
  },
  {
   "cell_type": "code",
   "execution_count": 2,
   "metadata": {},
   "outputs": [
    {
     "name": "stdout",
     "output_type": "stream",
     "text": [
      "Vi ska lära oss dessa ord: \n",
      "data structure, lambda, class, \n",
      "\n",
      "Glosa                 Betydelse\n",
      "data structure        means of storing and oraganising data\n",
      "lambda                anoymous function\n",
      "class                 blueprint for objects\n"
     ]
    }
   ],
   "source": [
    "words = {\n",
    "\n",
    "    \"data structure\": \"means of storing and oraganising data\",\n",
    "    \"lambda\": \"anoymous function\",\n",
    "    \"class\": \"blueprint for objects\"\n",
    "}\n",
    "\n",
    "print(\"Vi ska lära oss dessa ord: \")\n",
    "\n",
    "for key in words:\n",
    "    print(key, end=\", \")\n",
    "\n",
    "print(f\"\\n\\nGlosa{'':<15}  Betydelse\")\n",
    "\n",
    "for key, value in words.items():\n",
    "    print(f\"{key:<21} {value}\")\n"
   ]
  },
  {
   "cell_type": "code",
   "execution_count": 3,
   "metadata": {},
   "outputs": [
    {
     "name": "stdout",
     "output_type": "stream",
     "text": [
      "{'data structure': 'means of storing and oraganising data', 'lambda': 'an anonymous fucntion', 'class': 'blueprint for objects', 'regression': 'find a fucntion that best fits observed data'}\n"
     ]
    }
   ],
   "source": [
    "words[\"lambda\"] = \"an anonymous fucntion\" # overwrites the previous value for the key lambda\n",
    "words[\"regression\"] = \"find a fucntion that best fits observed data\" # add another key: value pair\n",
    "print(words)"
   ]
  },
  {
   "cell_type": "code",
   "execution_count": 18,
   "metadata": {},
   "outputs": [
    {
     "name": "stdout",
     "output_type": "stream",
     "text": [
      "['A', 'B', 'C', 'D', 'E', 'F']\n",
      "{'F': '<10', 'E': 10, 'D': 20, 'C': 30, 'B': 40, 'A': 50}\n"
     ]
    }
   ],
   "source": [
    "# F<10, E:10, D:20, C:30, B:40, A:50\n",
    "\n",
    "grade_limits = {}\n",
    "grades = list(\"ABCDEF\")\n",
    "\n",
    "print(grades)\n",
    "\n",
    "for i,  grade in enumerate(grades[::-1]):\n",
    "    grade_limits[grade] = i*10\n",
    "\n",
    "grade_limits[\"F\"] = \"<10\"\n",
    "print(grade_limits)"
   ]
  },
  {
   "cell_type": "markdown",
   "metadata": {},
   "source": [
    "## Dictionary comprehansion"
   ]
  },
  {
   "cell_type": "code",
   "execution_count": 22,
   "metadata": {},
   "outputs": [
    {
     "name": "stdout",
     "output_type": "stream",
     "text": [
      "{'F': 0, 'E': 10, 'D': 20, 'C': 30, 'B': 40, 'A': 50}\n",
      "Student scores: [25, 24, 12, 38, 11, 14, 15, 8, 48, 5, 16, 46, 24, 33, 43, 44, 34, 5, 60, 39]\n",
      "{'F': 0, 'E': 0, 'D': 0, 'C': 0, 'B': 0, 'A': 0}\n",
      "Grade count {'F': 3, 'E': 5, 'D': 3, 'C': 4, 'B': 4, 'A': 0}\n"
     ]
    }
   ],
   "source": [
    "import random as rnd\n",
    "grade_limits = {grade: i*10 for i, grade in enumerate(\"FEDCBA\")}\n",
    "print(grade_limits)\n",
    "\n",
    "def generate_scores(number_scores):\n",
    "    rnd.seed(99)\n",
    "    scores = [rnd.randint(0,60) for _ in range(number_scores)]\n",
    "    return scores\n",
    "\n",
    "scores = generate_scores(20)\n",
    "print(f\"Student scores: {scores}\")\n",
    "\n",
    "grade_count = {key: 0 for key in grade_limits}\n",
    "\n",
    "print(grade_count)\n",
    "\n",
    "for score in scores:\n",
    "    for grade, limit in grade_limits.items():\n",
    "        if limit <= score < limit + 10:\n",
    "            grade_count[grade] += 1\n",
    "\n",
    "print(f\"Grade count {grade_count}\")\n"
   ]
  }
 ],
 "metadata": {
  "interpreter": {
   "hash": "7565875fc860841d1ac58932c3399b2f9de3300a7321d66f878423c047ece803"
  },
  "kernelspec": {
   "display_name": "Python 3.9.6 64-bit ('python-programming-Kun-Han-lwkoREgH': virtualenv)",
   "name": "python3"
  },
  "language_info": {
   "codemirror_mode": {
    "name": "ipython",
    "version": 3
   },
   "file_extension": ".py",
   "mimetype": "text/x-python",
   "name": "python",
   "nbconvert_exporter": "python",
   "pygments_lexer": "ipython3",
   "version": "3.9.6"
  },
  "orig_nbformat": 4
 },
 "nbformat": 4,
 "nbformat_minor": 2
}
