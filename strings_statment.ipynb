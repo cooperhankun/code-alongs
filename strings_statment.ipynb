{
 "cells": [
  {
   "cell_type": "code",
   "execution_count": 2,
   "source": [
    "#cube every even number -- with if-statment inside\r\n",
    "cubes_even=[x**3 for x in range(10) if x%2==0]\r\n",
    "print(cubes_even)"
   ],
   "outputs": [
    {
     "output_type": "stream",
     "name": "stdout",
     "text": [
      "[0, 8, 64, 216, 512]\n"
     ]
    }
   ],
   "metadata": {}
  },
  {
   "cell_type": "code",
   "execution_count": 4,
   "source": [
    "print(\"hej\")"
   ],
   "outputs": [
    {
     "output_type": "stream",
     "name": "stdout",
     "text": [
      "hej\n"
     ]
    }
   ],
   "metadata": {}
  },
  {
   "cell_type": "markdown",
   "source": [
    "## concatenating strings"
   ],
   "metadata": {}
  },
  {
   "cell_type": "code",
   "execution_count": 9,
   "source": [
    "firstname=\"kun\"\r\n",
    "lastname=\"han\"\r\n",
    "fullname =firstname+ \" \" + lastname\r\n",
    "\r\n",
    "school=\"it-högskolan\"\r\n",
    "adress=\"Ebbe lilagatan 18c\"\r\n",
    "phone=\"112\"\r\n",
    "\r\n",
    "print(fullname)\r\n",
    "\r\n",
    "# multiline f-string\r\n",
    "contact_details= f\"\"\"\r\n",
    "Name: {fullname}\r\n",
    "School: {school}\r\n",
    "Adress: {adress}\r\n",
    "Phone: {phone}\r\n",
    "\"\"\"\r\n",
    "\r\n",
    "print(contact_details)"
   ],
   "outputs": [
    {
     "output_type": "stream",
     "name": "stdout",
     "text": [
      "kun han\n",
      "\n",
      "Name: kun han\n",
      "School: it-högskolan\n",
      "Adress: Ebbe lilagatan 18c\n",
      "Phone: 112\n",
      "\n"
     ]
    }
   ],
   "metadata": {}
  },
  {
   "cell_type": "markdown",
   "source": [
    "## concatenate with loop"
   ],
   "metadata": {}
  },
  {
   "cell_type": "code",
   "execution_count": 29,
   "source": [
    "bamba = \"Chili, Köttbullar, Fisk, Pannkakor, Taco\".split(\", \")\r\n",
    "\r\n",
    "days = \"Må Ti On To Fr\".split() # split() per default on empty space \" \"\r\n",
    "\r\n",
    "menu = \"veckomeny \\n\"\r\n",
    "\r\n",
    "for day, food in zip(days, bamba):\r\n",
    "    menu += f\"{day}: {food}\\n\"\r\n",
    "\r\n",
    "print(menu)\r\n"
   ],
   "outputs": [
    {
     "output_type": "stream",
     "name": "stdout",
     "text": [
      "veckomeny \n",
      "Må,: Chili\n",
      "Ti,: Köttbullar\n",
      "On,: Fisk\n",
      "To,: Pannkakor\n",
      "Fr: Taco\n",
      "\n"
     ]
    }
   ],
   "metadata": {}
  },
  {
   "cell_type": "markdown",
   "source": [
    "## indexing\r\n",
    "-indexing with [] operator to access elements\r\n",
    "\r\n",
    "-slicing operator"
   ],
   "metadata": {}
  },
  {
   "cell_type": "code",
   "execution_count": 25,
   "source": [
    "quote=\"!False - it is funny because it is True\"\r\n",
    "\r\n",
    "print(f\"quote[0] {quote[0]}\")\r\n",
    "print(f\"quote[-1] {quote[-1]}\")\r\n",
    "print(f\"quote[-5:] {quote[-5:]}\")\r\n",
    "print(f\"quote[-4:] {quote[-4:]}\")\r\n",
    "print(f\"quote[1:5] {quote[1:5]}\") # [start:stop-1]\r\n",
    "print(f\"backwards quote[::1-]: {quote[::-1]}\") # [start :stop-1:step]"
   ],
   "outputs": [
    {
     "output_type": "stream",
     "name": "stdout",
     "text": [
      "quote[0] !\n",
      "quote[-1] e\n",
      "quote[-5:]  True\n",
      "quote[-4:] True\n",
      "quote[1:5] Fals\n",
      "backwards quote[::1-]: eurT si ti esuaceb ynnuf si ti - eslaF!\n"
     ]
    }
   ],
   "metadata": {}
  },
  {
   "cell_type": "code",
   "execution_count": 58,
   "source": [
    "numbers=input(\"Ange några tal separeade med mellanslag: \").split() # data type is strings\r\n",
    "\r\n",
    "\r\n",
    "print(numbers[0] +numbers[1] )\r\n",
    "\r\n",
    "\r\n",
    "numbers=[float(number) for number in numbers if number.isdigit() ] # number.isdigit()\r\n",
    "\r\n",
    "print(numbers)\r\n",
    "mean=sum(numbers)/len(numbers)\r\n",
    "print(mean)"
   ],
   "outputs": [
    {
     "output_type": "stream",
     "name": "stdout",
     "text": [
      "2134\n",
      "[213.0, 4.0, 43.0, 5.0, 65.0, 6.0, 7.0, 7.0, 6.0, 5.0]\n",
      "36.1\n"
     ]
    }
   ],
   "metadata": {}
  },
  {
   "cell_type": "markdown",
   "source": [
    "## Regular expression\r\n",
    "-find particular patterns in a string\r\n",
    "\r\n",
    "-e.g phone numbers, personla numbers, email..."
   ],
   "metadata": {}
  },
  {
   "cell_type": "code",
   "execution_count": 71,
   "source": [
    "import re\r\n",
    "\r\n",
    "text=\"my telephone number is 021-123456, his teliphone number is 021-123212, mikes telenumber is 011-123456\"\r\n",
    "\r\n",
    "match1 = re.findall(r\"\\d\\d\\d-\\d\\d\\d\\d\\d\\d\", text)\r\n",
    "print(match1)\r\n",
    "\r\n",
    "match2=re.findall(r\"\\d{3}-\\d{6}\", text) #3 位和 6位的\r\n",
    "print(match2)\r\n",
    "\r\n",
    "match3=re.findall(r\"\\d{3}-\\d{5}\", text) \r\n",
    "print(match3)\r\n",
    "\r\n"
   ],
   "outputs": [
    {
     "output_type": "stream",
     "name": "stdout",
     "text": [
      "['021-123456', '021-123212', '011-123456']\n",
      "['021-123456', '021-123212', '011-123456']\n",
      "['021-12345', '021-12321', '011-12345']\n"
     ]
    }
   ],
   "metadata": {}
  },
  {
   "cell_type": "code",
   "execution_count": 73,
   "source": [
    "import re\r\n",
    "\r\n",
    "# find all words ending with att\r\n",
    "\r\n",
    "text=\"det var en gång en katt, som tog en hatt, jag blev matt, så jag spelade schdsdsd.\"\r\n",
    "match = re.findall(r\".att\", text)\r\n",
    "print(match)"
   ],
   "outputs": [
    {
     "output_type": "stream",
     "name": "stdout",
     "text": [
      "['katt', 'hatt', 'matt']\n"
     ]
    }
   ],
   "metadata": {}
  }
 ],
 "metadata": {
  "orig_nbformat": 4,
  "language_info": {
   "name": "python",
   "version": "3.9.6",
   "mimetype": "text/x-python",
   "codemirror_mode": {
    "name": "ipython",
    "version": 3
   },
   "pygments_lexer": "ipython3",
   "nbconvert_exporter": "python",
   "file_extension": ".py"
  },
  "kernelspec": {
   "name": "python3",
   "display_name": "Python 3.9.6 64-bit ('python-programming-Kun-Han-lwkoREgH': virtualenv)"
  },
  "interpreter": {
   "hash": "7565875fc860841d1ac58932c3399b2f9de3300a7321d66f878423c047ece803"
  }
 },
 "nbformat": 4,
 "nbformat_minor": 2
}