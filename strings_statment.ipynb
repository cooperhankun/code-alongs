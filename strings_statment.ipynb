{
 "cells": [
  {
   "cell_type": "code",
   "execution_count": 2,
   "metadata": {},
   "outputs": [
    {
     "name": "stdout",
     "output_type": "stream",
     "text": [
      "[0, 8, 64, 216, 512]\n"
     ]
    }
   ],
   "source": [
    "#cube every even number -- with if-statment inside\n",
    "cubes_even=[x**3 for x in range(10) if x%2==0]\n",
    "print(cubes_even)"
   ]
  },
  {
   "cell_type": "code",
   "execution_count": 4,
   "metadata": {},
   "outputs": [
    {
     "name": "stdout",
     "output_type": "stream",
     "text": [
      "hej\n"
     ]
    }
   ],
   "source": [
    "print(\"hej\")"
   ]
  },
  {
   "cell_type": "markdown",
   "metadata": {},
   "source": [
    "## concatenating strings"
   ]
  },
  {
   "cell_type": "code",
   "execution_count": 9,
   "metadata": {},
   "outputs": [
    {
     "name": "stdout",
     "output_type": "stream",
     "text": [
      "kun han\n",
      "\n",
      "Name: kun han\n",
      "School: it-högskolan\n",
      "Adress: Ebbe lilagatan 18c\n",
      "Phone: 112\n",
      "\n"
     ]
    }
   ],
   "source": [
    "firstname=\"kun\"\n",
    "lastname=\"han\"\n",
    "fullname =firstname+ \" \" + lastname\n",
    "\n",
    "school=\"it-högskolan\"\n",
    "adress=\"Ebbe lilagatan 18c\"\n",
    "phone=\"112\"\n",
    "\n",
    "print(fullname)\n",
    "\n",
    "# multiline f-string\n",
    "contact_details= f\"\"\"\n",
    "Name: {fullname}\n",
    "School: {school}\n",
    "Adress: {adress}\n",
    "Phone: {phone}\n",
    "\"\"\"\n",
    "\n",
    "print(contact_details)"
   ]
  },
  {
   "cell_type": "markdown",
   "metadata": {},
   "source": [
    "## concatenate with loop"
   ]
  },
  {
   "cell_type": "code",
   "execution_count": 2,
   "metadata": {},
   "outputs": [
    {
     "name": "stdout",
     "output_type": "stream",
     "text": [
      "['Må', 'Ti', 'On', 'To', 'Fr']\n",
      "veckomeny \n",
      "Må: Chili\n",
      "Ti: Köttbullar\n",
      "On: Fisk\n",
      "To: Pannkakor\n",
      "Fr: Taco\n",
      "\n",
      "<zip object at 0x0000022F0134EF40>\n"
     ]
    }
   ],
   "source": [
    "bamba = \"Chili, Köttbullar, Fisk, Pannkakor, Taco\".split(\", \")\n",
    "\n",
    "days = \"Må Ti On To Fr\".split() # split() per default on empty space \" \"\n",
    "\n",
    "print (days)\n",
    "\n",
    "menu = \"veckomeny \\n\"\n",
    "\n",
    "for day, food in zip(days, bamba):\n",
    "    menu += f\"{day}: {food}\\n\"\n",
    "\n",
    "print(menu)\n",
    "\n",
    "print(zip(days, bamba))\n"
   ]
  },
  {
   "cell_type": "markdown",
   "metadata": {},
   "source": [
    "## indexing\n",
    "-indexing with [] operator to access elements\n",
    "\n",
    "-slicing operator"
   ]
  },
  {
   "cell_type": "code",
   "execution_count": 25,
   "metadata": {},
   "outputs": [
    {
     "name": "stdout",
     "output_type": "stream",
     "text": [
      "quote[0] !\n",
      "quote[-1] e\n",
      "quote[-5:]  True\n",
      "quote[-4:] True\n",
      "quote[1:5] Fals\n",
      "backwards quote[::1-]: eurT si ti esuaceb ynnuf si ti - eslaF!\n"
     ]
    }
   ],
   "source": [
    "quote=\"!False - it is funny because it is True\"\n",
    "\n",
    "print(f\"quote[0] {quote[0]}\")\n",
    "print(f\"quote[-1] {quote[-1]}\")\n",
    "print(f\"quote[-5:] {quote[-5:]}\")\n",
    "print(f\"quote[-4:] {quote[-4:]}\")\n",
    "print(f\"quote[1:5] {quote[1:5]}\") # [start:stop-1]\n",
    "print(f\"backwards quote[::1-]: {quote[::-1]}\") # [start :stop-1:step]"
   ]
  },
  {
   "cell_type": "code",
   "execution_count": 58,
   "metadata": {},
   "outputs": [
    {
     "name": "stdout",
     "output_type": "stream",
     "text": [
      "2134\n",
      "[213.0, 4.0, 43.0, 5.0, 65.0, 6.0, 7.0, 7.0, 6.0, 5.0]\n",
      "36.1\n"
     ]
    }
   ],
   "source": [
    "numbers=input(\"Ange några tal separeade med mellanslag: \").split() # data type is strings\n",
    "\n",
    "\n",
    "print(numbers[0] +numbers[1] )\n",
    "\n",
    "\n",
    "numbers=[float(number) for number in numbers if number.isdigit() ] # number.isdigit()\n",
    "\n",
    "print(numbers)\n",
    "mean=sum(numbers)/len(numbers)\n",
    "print(mean)"
   ]
  },
  {
   "cell_type": "markdown",
   "metadata": {},
   "source": [
    "## Regular expression\n",
    "-find particular patterns in a string\n",
    "\n",
    "-e.g phone numbers, personla numbers, email..."
   ]
  },
  {
   "cell_type": "code",
   "execution_count": 71,
   "metadata": {},
   "outputs": [
    {
     "name": "stdout",
     "output_type": "stream",
     "text": [
      "['021-123456', '021-123212', '011-123456']\n",
      "['021-123456', '021-123212', '011-123456']\n",
      "['021-12345', '021-12321', '011-12345']\n"
     ]
    }
   ],
   "source": [
    "import re\n",
    "\n",
    "text=\"my telephone number is 021-123456, his teliphone number is 021-123212, mikes telenumber is 011-123456\"\n",
    "\n",
    "match1 = re.findall(r\"\\d\\d\\d-\\d\\d\\d\\d\\d\\d\", text)\n",
    "print(match1)\n",
    "\n",
    "match2=re.findall(r\"\\d{3}-\\d{6}\", text) #3 位和 6位的\n",
    "print(match2)\n",
    "\n",
    "match3=re.findall(r\"\\d{3}-\\d{5}\", text) \n",
    "print(match3)\n",
    "\n"
   ]
  },
  {
   "cell_type": "code",
   "execution_count": 73,
   "metadata": {},
   "outputs": [
    {
     "name": "stdout",
     "output_type": "stream",
     "text": [
      "['katt', 'hatt', 'matt']\n"
     ]
    }
   ],
   "source": [
    "import re\n",
    "\n",
    "# find all words ending with att\n",
    "\n",
    "text=\"det var en gång en katt, som tog en hatt, jag blev matt, så jag spelade schdsdsd.\"\n",
    "match = re.findall(r\".att\", text)\n",
    "print(match)"
   ]
  }
 ],
 "metadata": {
  "interpreter": {
   "hash": "7565875fc860841d1ac58932c3399b2f9de3300a7321d66f878423c047ece803"
  },
  "kernelspec": {
   "display_name": "Python 3.9.6 64-bit ('python-programming-Kun-Han-lwkoREgH': virtualenv)",
   "name": "python3"
  },
  "language_info": {
   "codemirror_mode": {
    "name": "ipython",
    "version": 3
   },
   "file_extension": ".py",
   "mimetype": "text/x-python",
   "name": "python",
   "nbconvert_exporter": "python",
   "pygments_lexer": "ipython3",
   "version": "3.9.6"
  },
  "orig_nbformat": 4
 },
 "nbformat": 4,
 "nbformat_minor": 2
}
