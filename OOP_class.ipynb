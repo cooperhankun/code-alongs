{
 "cells": [
  {
   "cell_type": "code",
   "execution_count": 7,
   "source": [
    "class Antagning: # create a class\r\n",
    "    def __init__(self):\r\n",
    "        pass\r\n",
    "\r\n",
    "a1 = Antagning() # instantiated(example) am object from the class Antagning\r\n",
    "print(a1)"
   ],
   "outputs": [
    {
     "output_type": "stream",
     "name": "stdout",
     "text": [
      "<__main__.Antagning object at 0x0000019412FA9040>\n"
     ]
    }
   ],
   "metadata": {}
  },
  {
   "cell_type": "code",
   "execution_count": 17,
   "source": [
    "class Antagning:\r\n",
    "    # \"self\" refers to the object that is created\r\n",
    "    # for functions or methods - positional arguments first, then default parameter\r\n",
    "    def __init__(self, school, program, name, accept=False) -> None: # dunder init\r\n",
    "        # assigns arguments to the objects attributes (egenskaper/variables)\r\n",
    "        self.school = school\r\n",
    "        self.program = program\r\n",
    "        self.name = name\r\n",
    "        self.accept = accept\r\n",
    "    \r\n",
    "    def __repr__(self): # dunder __repr__ read: \"repper\"\r\n",
    "        return f\"Antagning(school='{self.school}', program='{self.program}', name='{self.name}', accept={self.accept})\"\r\n",
    "    \r\n",
    "\r\n",
    "person1 = Antagning(\"Cool school\", \"AI\", \"Gore Bord\", False) # constructor\r\n",
    "person2 = Antagning(\"IT-school\", \"UX\", \"Gorat Boo\")\r\n",
    "print(person2.accept)\r\n",
    "\r\n",
    "print(person1.name)\r\n",
    "print(person1.school)\r\n",
    "print(person1.__dict__) # dunder dict\r\n",
    "\r\n",
    "print(person1)\r\n",
    "print(person2)\r\n"
   ],
   "outputs": [
    {
     "output_type": "stream",
     "name": "stdout",
     "text": [
      "False\n",
      "Gore Bord\n",
      "Cool school\n",
      "{'school': 'Cool school', 'program': 'AI', 'name': 'Gore Bord', 'accept': False}\n",
      "Antagning(school='Cool school'', program='AI', name='Gore Bord', accept=False)\n",
      "Antagning(school='IT-school'', program='UX', name='Gorat Boo', accept=False)\n"
     ]
    }
   ],
   "metadata": {}
  },
  {
   "cell_type": "markdown",
   "source": [
    "# Example old coins in Sweden"
   ],
   "metadata": {}
  },
  {
   "cell_type": "code",
   "execution_count": 18,
   "source": [
    "class OldCoinStash:\r\n",
    "    def __init__(self, owner) -> None:\r\n",
    "        # these attributes are public\r\n",
    "        self.owner = owner\r\n",
    "        self. riksdaler = 0\r\n",
    "        self.skilling = 0\r\n",
    "\r\n",
    "stash1 = OldCoinStash(\"Gore Bord\")\r\n",
    "print(stash1.riksdaler)\r\n",
    "stash1.riksdaler = 1000\r\n",
    "print(stash1.riksdaler)"
   ],
   "outputs": [
    {
     "output_type": "stream",
     "name": "stdout",
     "text": [
      "0\n",
      "1000\n"
     ]
    }
   ],
   "metadata": {}
  },
  {
   "cell_type": "markdown",
   "source": [
    "## Encapsulation\r\n",
    "\r\n",
    "- in OOP, you want to encapsulate some information and only show relevant information ourwards"
   ],
   "metadata": {}
  },
  {
   "cell_type": "code",
   "execution_count": 27,
   "source": [
    "class OldCoinStash:\r\n",
    "    def __init__(self, owner) -> None:\r\n",
    "        # these attributes are public\r\n",
    "        self.owner = owner\r\n",
    "\r\n",
    "        # private - by convention use underscore prefix\r\n",
    "        self._riksdaler = 0\r\n",
    "        self._skilling = 0\r\n",
    "\r\n",
    "    def deposit(self, riksdaler: float, skilling: float) -> None:\r\n",
    "        if riksdaler <= 0 or skilling <= 0:\r\n",
    "            raise ValueError(f\"Stop depositing negative values. {riksdaler} riksdaler or {skilling} not OK\")\r\n",
    "\r\n",
    "        self._riksdaler = riksdaler\r\n",
    "        self._skilling = skilling\r\n",
    "\r\n",
    "    def withdraw(self, riksdaler: float, skilling: float) -> None:\r\n",
    "        if riksdaler > self._riksdaler or skilling > self._skilling:\r\n",
    "            raise ValueError(f\"You can not withdraw more coins than you have\")\r\n",
    "        self._riksdaler -= riksdaler\r\n",
    "        self._skilling -= skilling\r\n",
    "\r\n",
    "    def check_balance(self) -> str:\r\n",
    "        return f\"Coins in stash: {self._riksdaler} riksdaler and {self._skilling} skilling\"\r\n",
    "\r\n",
    "    def __repr__(self) -> str:\r\n",
    "        return f\"OldCoinStash(owner = '{self.owner})'\"\r\n",
    "\r\n",
    "stash1 = OldCoinStash(\"Gore Bod\")\r\n",
    "print(stash1) # test __repr__\r\n",
    "print(stash1.check_balance()) # testing check_balance()\r\n",
    "stash1.deposit(riksdaler=500, skilling=3000) # testing the deposite()\r\n",
    "print(stash1.check_balance())\r\n",
    "\r\n",
    "try:\r\n",
    "    stash1.deposit(-20,35)\r\n",
    "except ValueError as err:\r\n",
    "    print(err)\r\n",
    "\r\n",
    "print(stash1.withdraw(100, 100)) # testing withdraw\r\n",
    "print(stash1.check_balance())\r\n",
    "\r\n",
    "try:\r\n",
    "    stash1.withdraw(2000000,35000000) # trying to rob the stash\r\n",
    "except ValueError as err:\r\n",
    "    print(err)\r\n",
    "\r\n",
    "print(stash1.check_balance())\r\n",
    "\r\n",
    "# try to borrow this stash\r\n",
    "\r\n",
    "# works, but do not do this \r\n",
    "\r\n",
    "stash1._riksdaler = 100000000\r\n",
    "print(stash1.check_balance())\r\n"
   ],
   "outputs": [
    {
     "output_type": "stream",
     "name": "stdout",
     "text": [
      "OldCoinStash(owner = 'Gore Bod)'\n",
      "Coins in stash: 0 riksdaler and 0 skilling\n",
      "Coins in stash: 500 riksdaler and 3000 skilling\n",
      "Stop depositing negative values. -20 riksdaler or 35 not OK\n",
      "None\n",
      "Coins in stash: 400 riksdaler and 2900 skilling\n",
      "You can not withdraw more coins than you have\n",
      "Coins in stash: 400 riksdaler and 2900 skilling\n",
      "Coins in stash: 100000000 riksdaler and 2900 skilling\n"
     ]
    }
   ],
   "metadata": {}
  },
  {
   "cell_type": "markdown",
   "source": [
    "## Properties"
   ],
   "metadata": {}
  },
  {
   "cell_type": "code",
   "execution_count": 3,
   "source": [
    "class Student:\r\n",
    "    def __init__(self, name: str, age:float) -> None:\r\n",
    "        self.name = name # note no underscore\r\n",
    "        self.age = age\r\n",
    "\r\n",
    "    @property\r\n",
    "    def age(self) -> float:\r\n",
    "        # print(\"age getter is running...\")\r\n",
    "        return self._age\r\n",
    "\r\n",
    "    @age.setter\r\n",
    "    def age(self, value: float) -> None:\r\n",
    "        if not isinstance(value, (int, float)):\r\n",
    "            raise TypeError(f\"Age must an int or flaot not{type(value)}\")\r\n",
    "\r\n",
    "        if not (0 <= value < 125):\r\n",
    "            raise ValueError(\"Your age must between 0 and 124\")\r\n",
    "\r\n",
    "        self._age = value\r\n",
    "\r\n",
    "student1 = Student(\" Gore Bord\", 25)\r\n",
    "print(student1.age)\r\n",
    "print(student1.name)\r\n",
    "print(student1._age)\r\n",
    "\r\n",
    "try:\r\n",
    "    Student.age = \"25\"\r\n",
    "except TypeError as err:\r\n",
    "    print(err)\r\n",
    "\r\n",
    "\r\n",
    "\r\n"
   ],
   "outputs": [
    {
     "output_type": "stream",
     "name": "stdout",
     "text": [
      "25\n",
      " Gore Bord\n",
      "25\n"
     ]
    }
   ],
   "metadata": {}
  }
 ],
 "metadata": {
  "orig_nbformat": 4,
  "language_info": {
   "name": "python",
   "version": "3.9.6",
   "mimetype": "text/x-python",
   "codemirror_mode": {
    "name": "ipython",
    "version": 3
   },
   "pygments_lexer": "ipython3",
   "nbconvert_exporter": "python",
   "file_extension": ".py"
  },
  "kernelspec": {
   "name": "python3",
   "display_name": "Python 3.9.6 64-bit ('python-programming-Kun-Han-lwkoREgH': virtualenv)"
  },
  "interpreter": {
   "hash": "7565875fc860841d1ac58932c3399b2f9de3300a7321d66f878423c047ece803"
  }
 },
 "nbformat": 4,
 "nbformat_minor": 2
}