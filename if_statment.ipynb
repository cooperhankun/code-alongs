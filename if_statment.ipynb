{
 "cells": [
  {
   "cell_type": "markdown",
   "source": [
    "# if sat"
   ],
   "metadata": {}
  },
  {
   "cell_type": "code",
   "execution_count": 4,
   "source": [
    "age=int(input(\"how old are you?\"))\r\n",
    "\r\n",
    "if age<50:\r\n",
    "    print(\"you are too young!\")\r\n",
    "else:\r\n",
    "    print(\"you are allowed.\")\r\n"
   ],
   "outputs": [
    {
     "output_type": "stream",
     "name": "stdout",
     "text": [
      "you are allowed.\n"
     ]
    }
   ],
   "metadata": {}
  },
  {
   "cell_type": "code",
   "execution_count": 5,
   "source": [
    "age=15\r\n",
    "height=150\r\n",
    "\r\n",
    "if age >= 11 and height >= 130:\r\n",
    "    print(\"you can come in!\")\r\n",
    "else:\r\n",
    "    print(\"go home!\")"
   ],
   "outputs": [
    {
     "output_type": "stream",
     "name": "stdout",
     "text": [
      "you can come in!\n"
     ]
    }
   ],
   "metadata": {}
  },
  {
   "cell_type": "code",
   "execution_count": 46,
   "source": [
    "\"\"\"\r\n",
    "IG:0-10\r\n",
    "G:11-20\r\n",
    "VG:21-30\r\n",
    "MVG:>30\r\n",
    "\"\"\"\r\n",
    "\r\n",
    "import random as rnd\r\n",
    "rnd.seed(40) #fix a number\r\n",
    "point=rnd.randint(0,35)\r\n",
    "\r\n",
    "if point>30:\r\n",
    "    print(\"MVG\")\r\n",
    "elif point>20:\r\n",
    "    print(\"VG\")\r\n",
    "elif point>10:\r\n",
    "    print(\"G\")\r\n",
    "else:\r\n",
    "    print(\"IG\")\r\n"
   ],
   "outputs": [
    {
     "output_type": "stream",
     "name": "stdout",
     "text": [
      "IG\n"
     ]
    }
   ],
   "metadata": {}
  },
  {
   "cell_type": "code",
   "execution_count": 47,
   "source": [
    "number =10\r\n",
    "if number%2 == 0 and number%5 == 0:\r\n",
    "    print(\"Jämnt och delbart med 5\")"
   ],
   "outputs": [
    {
     "output_type": "stream",
     "name": "stdout",
     "text": [
      "Jamn och delbart med 5\n"
     ]
    }
   ],
   "metadata": {}
  },
  {
   "cell_type": "code",
   "execution_count": 49,
   "source": [
    "number =10\r\n",
    "if number%2 == 0:\r\n",
    "    if number%5 == 0:\r\n",
    "        print(\"Jämnt och delbart med 5\")\r\n"
   ],
   "outputs": [
    {
     "output_type": "stream",
     "name": "stdout",
     "text": [
      "Jämnt och delbart med 5\n"
     ]
    }
   ],
   "metadata": {}
  }
 ],
 "metadata": {
  "orig_nbformat": 4,
  "language_info": {
   "name": "python",
   "version": "3.9.6",
   "mimetype": "text/x-python",
   "codemirror_mode": {
    "name": "ipython",
    "version": 3
   },
   "pygments_lexer": "ipython3",
   "nbconvert_exporter": "python",
   "file_extension": ".py"
  },
  "kernelspec": {
   "name": "python3",
   "display_name": "Python 3.9.6 64-bit"
  },
  "interpreter": {
   "hash": "ded964624c0da0089d9183eb236546880599c5ca771d587a021b71135ab6c6eb"
  }
 },
 "nbformat": 4,
 "nbformat_minor": 2
}