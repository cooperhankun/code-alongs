{
 "cells": [
  {
   "cell_type": "markdown",
   "source": [
    "# if sat"
   ],
   "metadata": {}
  },
  {
   "cell_type": "code",
   "execution_count": 4,
   "source": [
    "age=int(input(\"how old are you?\"))\r\n",
    "\r\n",
    "if age<50:\r\n",
    "    print(\"you are too young!\")\r\n",
    "else:\r\n",
    "    print(\"you are allowed.\")\r\n"
   ],
   "outputs": [
    {
     "output_type": "stream",
     "name": "stdout",
     "text": [
      "you are allowed.\n"
     ]
    }
   ],
   "metadata": {}
  },
  {
   "cell_type": "code",
   "execution_count": 5,
   "source": [
    "age=15\r\n",
    "height=150\r\n",
    "\r\n",
    "if age >= 11 and height >= 130:\r\n",
    "    print(\"you can come in!\")\r\n",
    "else:\r\n",
    "    print(\"go home!\")"
   ],
   "outputs": [
    {
     "output_type": "stream",
     "name": "stdout",
     "text": [
      "you can come in!\n"
     ]
    }
   ],
   "metadata": {}
  }
 ],
 "metadata": {
  "orig_nbformat": 4,
  "language_info": {
   "name": "python",
   "version": "3.9.6",
   "mimetype": "text/x-python",
   "codemirror_mode": {
    "name": "ipython",
    "version": 3
   },
   "pygments_lexer": "ipython3",
   "nbconvert_exporter": "python",
   "file_extension": ".py"
  },
  "kernelspec": {
   "name": "python3",
   "display_name": "Python 3.9.6 64-bit"
  },
  "interpreter": {
   "hash": "ded964624c0da0089d9183eb236546880599c5ca771d587a021b71135ab6c6eb"
  }
 },
 "nbformat": 4,
 "nbformat_minor": 2
}